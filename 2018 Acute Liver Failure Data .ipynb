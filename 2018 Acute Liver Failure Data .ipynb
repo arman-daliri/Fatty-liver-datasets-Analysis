{
 "cells": [
  {
   "cell_type": "markdown",
   "metadata": {},
   "source": [
    "## 2018 Acute Liver Failure Data analyze"
   ]
  },
  {
   "cell_type": "code",
   "execution_count": 101,
   "metadata": {},
   "outputs": [],
   "source": [
    "import pandas as pd\n",
    "import numpy as np\n",
    "import matplotlib.pyplot as plt\n",
    "import seaborn as sns \n",
    "sns.set()"
   ]
  },
  {
   "cell_type": "code",
   "execution_count": 102,
   "metadata": {},
   "outputs": [],
   "source": [
    "data = pd.read_csv('2018 Acute Liver Failure.csv')"
   ]
  },
  {
   "cell_type": "markdown",
   "metadata": {},
   "source": [
    "## The classification of data based on the target \"logical\" :"
   ]
  },
  {
   "cell_type": "code",
   "execution_count": 103,
   "metadata": {},
   "outputs": [
    {
     "data": {
      "text/plain": [
       "<matplotlib.axes._subplots.AxesSubplot at 0x25b4e2306a0>"
      ]
     },
     "execution_count": 103,
     "metadata": {},
     "output_type": "execute_result"
    },
    {
     "data": {
      "image/png": "[encoded data removed]",
      "text/plain": [
       "<Figure size 432x288 with 1 Axes>"
      ]
     },
     "metadata": {},
     "output_type": "display_data"
    }
   ],
   "source": [
    "data.ALF.value_counts().plot(kind=\"bar\")"
   ]
  },
  {
   "cell_type": "code",
   "execution_count": 104,
   "metadata": {},
   "outputs": [
    {
     "data": {
      "text/plain": [
       "<matplotlib.axes._subplots.AxesSubplot at 0x25b4e5cec40>"
      ]
     },
     "execution_count": 104,
     "metadata": {},
     "output_type": "execute_result"
    },
    {
     "data": {
      "image/png": "[encoded data removed]",
      "text/plain": [
       "<Figure size 432x288 with 1 Axes>"
      ]
     },
     "metadata": {},
     "output_type": "display_data"
    }
   ],
   "source": [
    "data.ALF.value_counts().plot(kind=\"pie\")"
   ]
  },
  {
   "cell_type": "code",
   "execution_count": 105,
   "metadata": {},
   "outputs": [
    {
     "data": {
      "text/plain": [
       "<matplotlib.axes._subplots.AxesSubplot at 0x25b4e5827c0>"
      ]
     },
     "execution_count": 105,
     "metadata": {},
     "output_type": "execute_result"
    },
    {
     "data": {
      "image/png": "[encoded data removed]",
      "text/plain": [
       "<Figure size 432x288 with 1 Axes>"
      ]
     },
     "metadata": {},
     "output_type": "display_data"
    }
   ],
   "source": [
    "data.ALF.value_counts().plot(kind=\"line\")"
   ]
  },
  {
   "cell_type": "markdown",
   "metadata": {},
   "source": [
    "## Data cleaning :"
   ]
  },
  {
   "cell_type": "code",
   "execution_count": 106,
   "metadata": {},
   "outputs": [
    {
     "data": {
      "text/html": [
       "<div>\n",
       "<style scoped>\n",
       "    .dataframe tbody tr th:only-of-type {\n",
       "        vertical-align: middle;\n",
       "    }\n",
       "\n",
       "    .dataframe tbody tr th {\n",
       "        vertical-align: top;\n",
       "    }\n",
       "\n",
       "    .dataframe thead th {\n",
       "        text-align: right;\n",
       "    }\n",
       "</style>\n",
       "<table border=\"1\" class=\"dataframe\">\n",
       "  <thead>\n",
       "    <tr style=\"text-align: right;\">\n",
       "      <th></th>\n",
       "      <th>Age</th>\n",
       "      <th>Gender</th>\n",
       "      <th>Region</th>\n",
       "      <th>Weight</th>\n",
       "      <th>Height</th>\n",
       "      <th>Body Mass Index</th>\n",
       "      <th>Obesity</th>\n",
       "      <th>Waist</th>\n",
       "      <th>Maximum Blood Pressure</th>\n",
       "      <th>Minimum Blood Pressure</th>\n",
       "      <th>...</th>\n",
       "      <th>PoorVision</th>\n",
       "      <th>Alcohol Consumption</th>\n",
       "      <th>HyperTension</th>\n",
       "      <th>Family  HyperTension</th>\n",
       "      <th>Diabetes</th>\n",
       "      <th>Family Diabetes</th>\n",
       "      <th>Hepatitis</th>\n",
       "      <th>Family Hepatitis</th>\n",
       "      <th>Chronic Fatigue</th>\n",
       "      <th>ALF</th>\n",
       "    </tr>\n",
       "  </thead>\n",
       "  <tbody>\n",
       "    <tr>\n",
       "      <th>0</th>\n",
       "      <td>65</td>\n",
       "      <td>M</td>\n",
       "      <td>east</td>\n",
       "      <td>56.0</td>\n",
       "      <td>162.1</td>\n",
       "      <td>21.31</td>\n",
       "      <td>0.0</td>\n",
       "      <td>83.6</td>\n",
       "      <td>135.0</td>\n",
       "      <td>71.0</td>\n",
       "      <td>...</td>\n",
       "      <td>0.0</td>\n",
       "      <td>1</td>\n",
       "      <td>0.0</td>\n",
       "      <td>0</td>\n",
       "      <td>0.0</td>\n",
       "      <td>1</td>\n",
       "      <td>1.0</td>\n",
       "      <td>0.0</td>\n",
       "      <td>0.0</td>\n",
       "      <td>0.0</td>\n",
       "    </tr>\n",
       "    <tr>\n",
       "      <th>1</th>\n",
       "      <td>36</td>\n",
       "      <td>M</td>\n",
       "      <td>south</td>\n",
       "      <td>60.2</td>\n",
       "      <td>162.2</td>\n",
       "      <td>22.88</td>\n",
       "      <td>0.0</td>\n",
       "      <td>76.6</td>\n",
       "      <td>96.0</td>\n",
       "      <td>52.0</td>\n",
       "      <td>...</td>\n",
       "      <td>0.0</td>\n",
       "      <td>0</td>\n",
       "      <td>0.0</td>\n",
       "      <td>0</td>\n",
       "      <td>0.0</td>\n",
       "      <td>0</td>\n",
       "      <td>0.0</td>\n",
       "      <td>0.0</td>\n",
       "      <td>0.0</td>\n",
       "      <td>0.0</td>\n",
       "    </tr>\n",
       "    <tr>\n",
       "      <th>2</th>\n",
       "      <td>66</td>\n",
       "      <td>M</td>\n",
       "      <td>east</td>\n",
       "      <td>83.9</td>\n",
       "      <td>162.5</td>\n",
       "      <td>31.77</td>\n",
       "      <td>1.0</td>\n",
       "      <td>113.2</td>\n",
       "      <td>115.0</td>\n",
       "      <td>57.0</td>\n",
       "      <td>...</td>\n",
       "      <td>0.0</td>\n",
       "      <td>1</td>\n",
       "      <td>0.0</td>\n",
       "      <td>0</td>\n",
       "      <td>1.0</td>\n",
       "      <td>0</td>\n",
       "      <td>0.0</td>\n",
       "      <td>0.0</td>\n",
       "      <td>0.0</td>\n",
       "      <td>0.0</td>\n",
       "    </tr>\n",
       "    <tr>\n",
       "      <th>3</th>\n",
       "      <td>54</td>\n",
       "      <td>M</td>\n",
       "      <td>east</td>\n",
       "      <td>69.4</td>\n",
       "      <td>160.5</td>\n",
       "      <td>26.94</td>\n",
       "      <td>0.0</td>\n",
       "      <td>77.9</td>\n",
       "      <td>110.0</td>\n",
       "      <td>57.0</td>\n",
       "      <td>...</td>\n",
       "      <td>0.0</td>\n",
       "      <td>1</td>\n",
       "      <td>0.0</td>\n",
       "      <td>0</td>\n",
       "      <td>0.0</td>\n",
       "      <td>0</td>\n",
       "      <td>0.0</td>\n",
       "      <td>0.0</td>\n",
       "      <td>0.0</td>\n",
       "      <td>0.0</td>\n",
       "    </tr>\n",
       "    <tr>\n",
       "      <th>4</th>\n",
       "      <td>63</td>\n",
       "      <td>M</td>\n",
       "      <td>north</td>\n",
       "      <td>73.1</td>\n",
       "      <td>159.2</td>\n",
       "      <td>28.84</td>\n",
       "      <td>0.0</td>\n",
       "      <td>89.3</td>\n",
       "      <td>132.0</td>\n",
       "      <td>73.0</td>\n",
       "      <td>...</td>\n",
       "      <td>0.0</td>\n",
       "      <td>0</td>\n",
       "      <td>1.0</td>\n",
       "      <td>0</td>\n",
       "      <td>0.0</td>\n",
       "      <td>0</td>\n",
       "      <td>0.0</td>\n",
       "      <td>0.0</td>\n",
       "      <td>0.0</td>\n",
       "      <td>0.0</td>\n",
       "    </tr>\n",
       "    <tr>\n",
       "      <th>...</th>\n",
       "      <td>...</td>\n",
       "      <td>...</td>\n",
       "      <td>...</td>\n",
       "      <td>...</td>\n",
       "      <td>...</td>\n",
       "      <td>...</td>\n",
       "      <td>...</td>\n",
       "      <td>...</td>\n",
       "      <td>...</td>\n",
       "      <td>...</td>\n",
       "      <td>...</td>\n",
       "      <td>...</td>\n",
       "      <td>...</td>\n",
       "      <td>...</td>\n",
       "      <td>...</td>\n",
       "      <td>...</td>\n",
       "      <td>...</td>\n",
       "      <td>...</td>\n",
       "      <td>...</td>\n",
       "      <td>...</td>\n",
       "      <td>...</td>\n",
       "    </tr>\n",
       "    <tr>\n",
       "      <th>8780</th>\n",
       "      <td>35</td>\n",
       "      <td>F</td>\n",
       "      <td>east</td>\n",
       "      <td>70.0</td>\n",
       "      <td>171.5</td>\n",
       "      <td>23.80</td>\n",
       "      <td>0.0</td>\n",
       "      <td>87.5</td>\n",
       "      <td>114.0</td>\n",
       "      <td>76.0</td>\n",
       "      <td>...</td>\n",
       "      <td>0.0</td>\n",
       "      <td>1</td>\n",
       "      <td>0.0</td>\n",
       "      <td>1</td>\n",
       "      <td>0.0</td>\n",
       "      <td>1</td>\n",
       "      <td>0.0</td>\n",
       "      <td>0.0</td>\n",
       "      <td>0.0</td>\n",
       "      <td>NaN</td>\n",
       "    </tr>\n",
       "    <tr>\n",
       "      <th>8781</th>\n",
       "      <td>66</td>\n",
       "      <td>F</td>\n",
       "      <td>north</td>\n",
       "      <td>102.0</td>\n",
       "      <td>180.7</td>\n",
       "      <td>31.24</td>\n",
       "      <td>1.0</td>\n",
       "      <td>113.2</td>\n",
       "      <td>117.0</td>\n",
       "      <td>72.0</td>\n",
       "      <td>...</td>\n",
       "      <td>0.0</td>\n",
       "      <td>0</td>\n",
       "      <td>1.0</td>\n",
       "      <td>0</td>\n",
       "      <td>0.0</td>\n",
       "      <td>1</td>\n",
       "      <td>0.0</td>\n",
       "      <td>0.0</td>\n",
       "      <td>0.0</td>\n",
       "      <td>NaN</td>\n",
       "    </tr>\n",
       "    <tr>\n",
       "      <th>8782</th>\n",
       "      <td>37</td>\n",
       "      <td>F</td>\n",
       "      <td>south</td>\n",
       "      <td>84.4</td>\n",
       "      <td>186.0</td>\n",
       "      <td>24.40</td>\n",
       "      <td>0.0</td>\n",
       "      <td>93.6</td>\n",
       "      <td>144.0</td>\n",
       "      <td>82.0</td>\n",
       "      <td>...</td>\n",
       "      <td>0.0</td>\n",
       "      <td>0</td>\n",
       "      <td>1.0</td>\n",
       "      <td>0</td>\n",
       "      <td>0.0</td>\n",
       "      <td>0</td>\n",
       "      <td>0.0</td>\n",
       "      <td>0.0</td>\n",
       "      <td>0.0</td>\n",
       "      <td>NaN</td>\n",
       "    </tr>\n",
       "    <tr>\n",
       "      <th>8783</th>\n",
       "      <td>39</td>\n",
       "      <td>F</td>\n",
       "      <td>east</td>\n",
       "      <td>92.1</td>\n",
       "      <td>184.8</td>\n",
       "      <td>26.97</td>\n",
       "      <td>0.0</td>\n",
       "      <td>98.2</td>\n",
       "      <td>121.0</td>\n",
       "      <td>75.0</td>\n",
       "      <td>...</td>\n",
       "      <td>0.0</td>\n",
       "      <td>0</td>\n",
       "      <td>0.0</td>\n",
       "      <td>0</td>\n",
       "      <td>0.0</td>\n",
       "      <td>0</td>\n",
       "      <td>0.0</td>\n",
       "      <td>0.0</td>\n",
       "      <td>0.0</td>\n",
       "      <td>NaN</td>\n",
       "    </tr>\n",
       "    <tr>\n",
       "      <th>8784</th>\n",
       "      <td>70</td>\n",
       "      <td>M</td>\n",
       "      <td>east</td>\n",
       "      <td>58.5</td>\n",
       "      <td>161.1</td>\n",
       "      <td>22.54</td>\n",
       "      <td>0.0</td>\n",
       "      <td>99.4</td>\n",
       "      <td>125.0</td>\n",
       "      <td>82.0</td>\n",
       "      <td>...</td>\n",
       "      <td>NaN</td>\n",
       "      <td>0</td>\n",
       "      <td>1.0</td>\n",
       "      <td>1</td>\n",
       "      <td>0.0</td>\n",
       "      <td>0</td>\n",
       "      <td>0.0</td>\n",
       "      <td>0.0</td>\n",
       "      <td>0.0</td>\n",
       "      <td>NaN</td>\n",
       "    </tr>\n",
       "  </tbody>\n",
       "</table>\n",
       "<p>8785 rows × 30 columns</p>\n",
       "</div>"
      ],
      "text/plain": [
       "      Age Gender Region  Weight  Height  Body Mass Index  Obesity  Waist  \\\n",
       "0      65      M   east    56.0   162.1            21.31      0.0   83.6   \n",
       "1      36      M  south    60.2   162.2            22.88      0.0   76.6   \n",
       "2      66      M   east    83.9   162.5            31.77      1.0  113.2   \n",
       "3      54      M   east    69.4   160.5            26.94      0.0   77.9   \n",
       "4      63      M  north    73.1   159.2            28.84      0.0   89.3   \n",
       "...   ...    ...    ...     ...     ...              ...      ...    ...   \n",
       "8780   35      F   east    70.0   171.5            23.80      0.0   87.5   \n",
       "8781   66      F  north   102.0   180.7            31.24      1.0  113.2   \n",
       "8782   37      F  south    84.4   186.0            24.40      0.0   93.6   \n",
       "8783   39      F   east    92.1   184.8            26.97      0.0   98.2   \n",
       "8784   70      M   east    58.5   161.1            22.54      0.0   99.4   \n",
       "\n",
       "      Maximum Blood Pressure  Minimum Blood Pressure  ...  PoorVision  \\\n",
       "0                      135.0                    71.0  ...         0.0   \n",
       "1                       96.0                    52.0  ...         0.0   \n",
       "2                      115.0                    57.0  ...         0.0   \n",
       "3                      110.0                    57.0  ...         0.0   \n",
       "4                      132.0                    73.0  ...         0.0   \n",
       "...                      ...                     ...  ...         ...   \n",
       "8780                   114.0                    76.0  ...         0.0   \n",
       "8781                   117.0                    72.0  ...         0.0   \n",
       "8782                   144.0                    82.0  ...         0.0   \n",
       "8783                   121.0                    75.0  ...         0.0   \n",
       "8784                   125.0                    82.0  ...         NaN   \n",
       "\n",
       "      Alcohol Consumption  HyperTension  Family  HyperTension  Diabetes  \\\n",
       "0                       1           0.0                     0       0.0   \n",
       "1                       0           0.0                     0       0.0   \n",
       "2                       1           0.0                     0       1.0   \n",
       "3                       1           0.0                     0       0.0   \n",
       "4                       0           1.0                     0       0.0   \n",
       "...                   ...           ...                   ...       ...   \n",
       "8780                    1           0.0                     1       0.0   \n",
       "8781                    0           1.0                     0       0.0   \n",
       "8782                    0           1.0                     0       0.0   \n",
       "8783                    0           0.0                     0       0.0   \n",
       "8784                    0           1.0                     1       0.0   \n",
       "\n",
       "      Family Diabetes  Hepatitis  Family Hepatitis  Chronic Fatigue  ALF  \n",
       "0                   1        1.0               0.0              0.0  0.0  \n",
       "1                   0        0.0               0.0              0.0  0.0  \n",
       "2                   0        0.0               0.0              0.0  0.0  \n",
       "3                   0        0.0               0.0              0.0  0.0  \n",
       "4                   0        0.0               0.0              0.0  0.0  \n",
       "...               ...        ...               ...              ...  ...  \n",
       "8780                1        0.0               0.0              0.0  NaN  \n",
       "8781                1        0.0               0.0              0.0  NaN  \n",
       "8782                0        0.0               0.0              0.0  NaN  \n",
       "8783                0        0.0               0.0              0.0  NaN  \n",
       "8784                0        0.0               0.0              0.0  NaN  \n",
       "\n",
       "[8785 rows x 30 columns]"
      ]
     },
     "execution_count": 106,
     "metadata": {},
     "output_type": "execute_result"
    }
   ],
   "source": [
    "data"
   ]
  },
  {
   "cell_type": "code",
   "execution_count": 107,
   "metadata": {},
   "outputs": [
    {
     "data": {
      "text/html": [
       "<div>\n",
       "<style scoped>\n",
       "    .dataframe tbody tr th:only-of-type {\n",
       "        vertical-align: middle;\n",
       "    }\n",
       "\n",
       "    .dataframe tbody tr th {\n",
       "        vertical-align: top;\n",
       "    }\n",
       "\n",
       "    .dataframe thead th {\n",
       "        text-align: right;\n",
       "    }\n",
       "</style>\n",
       "<table border=\"1\" class=\"dataframe\">\n",
       "  <thead>\n",
       "    <tr style=\"text-align: right;\">\n",
       "      <th></th>\n",
       "      <th>Age</th>\n",
       "      <th>Gender</th>\n",
       "      <th>Region</th>\n",
       "      <th>Weight</th>\n",
       "      <th>Height</th>\n",
       "      <th>Body Mass Index</th>\n",
       "      <th>Obesity</th>\n",
       "      <th>Waist</th>\n",
       "      <th>Maximum Blood Pressure</th>\n",
       "      <th>Minimum Blood Pressure</th>\n",
       "      <th>...</th>\n",
       "      <th>PoorVision</th>\n",
       "      <th>Alcohol Consumption</th>\n",
       "      <th>HyperTension</th>\n",
       "      <th>Family  HyperTension</th>\n",
       "      <th>Diabetes</th>\n",
       "      <th>Family Diabetes</th>\n",
       "      <th>Hepatitis</th>\n",
       "      <th>Family Hepatitis</th>\n",
       "      <th>Chronic Fatigue</th>\n",
       "      <th>ALF</th>\n",
       "    </tr>\n",
       "  </thead>\n",
       "  <tbody>\n",
       "    <tr>\n",
       "      <th>count</th>\n",
       "      <td>8785.000000</td>\n",
       "      <td>8785</td>\n",
       "      <td>8785</td>\n",
       "      <td>8591.000000</td>\n",
       "      <td>8594.000000</td>\n",
       "      <td>8495.000000</td>\n",
       "      <td>8495.000000</td>\n",
       "      <td>8471.000000</td>\n",
       "      <td>8481.000000</td>\n",
       "      <td>8409.000000</td>\n",
       "      <td>...</td>\n",
       "      <td>8222.000000</td>\n",
       "      <td>8785.000000</td>\n",
       "      <td>8705.000000</td>\n",
       "      <td>8785.000000</td>\n",
       "      <td>8783.000000</td>\n",
       "      <td>8785.000000</td>\n",
       "      <td>8763.00000</td>\n",
       "      <td>8779.000000</td>\n",
       "      <td>8750.000000</td>\n",
       "      <td>6000.000000</td>\n",
       "    </tr>\n",
       "    <tr>\n",
       "      <th>unique</th>\n",
       "      <td>NaN</td>\n",
       "      <td>2</td>\n",
       "      <td>4</td>\n",
       "      <td>NaN</td>\n",
       "      <td>NaN</td>\n",
       "      <td>NaN</td>\n",
       "      <td>NaN</td>\n",
       "      <td>NaN</td>\n",
       "      <td>NaN</td>\n",
       "      <td>NaN</td>\n",
       "      <td>...</td>\n",
       "      <td>NaN</td>\n",
       "      <td>NaN</td>\n",
       "      <td>NaN</td>\n",
       "      <td>NaN</td>\n",
       "      <td>NaN</td>\n",
       "      <td>NaN</td>\n",
       "      <td>NaN</td>\n",
       "      <td>NaN</td>\n",
       "      <td>NaN</td>\n",
       "      <td>NaN</td>\n",
       "    </tr>\n",
       "    <tr>\n",
       "      <th>top</th>\n",
       "      <td>NaN</td>\n",
       "      <td>M</td>\n",
       "      <td>east</td>\n",
       "      <td>NaN</td>\n",
       "      <td>NaN</td>\n",
       "      <td>NaN</td>\n",
       "      <td>NaN</td>\n",
       "      <td>NaN</td>\n",
       "      <td>NaN</td>\n",
       "      <td>NaN</td>\n",
       "      <td>...</td>\n",
       "      <td>NaN</td>\n",
       "      <td>NaN</td>\n",
       "      <td>NaN</td>\n",
       "      <td>NaN</td>\n",
       "      <td>NaN</td>\n",
       "      <td>NaN</td>\n",
       "      <td>NaN</td>\n",
       "      <td>NaN</td>\n",
       "      <td>NaN</td>\n",
       "      <td>NaN</td>\n",
       "    </tr>\n",
       "    <tr>\n",
       "      <th>freq</th>\n",
       "      <td>NaN</td>\n",
       "      <td>4630</td>\n",
       "      <td>4324</td>\n",
       "      <td>NaN</td>\n",
       "      <td>NaN</td>\n",
       "      <td>NaN</td>\n",
       "      <td>NaN</td>\n",
       "      <td>NaN</td>\n",
       "      <td>NaN</td>\n",
       "      <td>NaN</td>\n",
       "      <td>...</td>\n",
       "      <td>NaN</td>\n",
       "      <td>NaN</td>\n",
       "      <td>NaN</td>\n",
       "      <td>NaN</td>\n",
       "      <td>NaN</td>\n",
       "      <td>NaN</td>\n",
       "      <td>NaN</td>\n",
       "      <td>NaN</td>\n",
       "      <td>NaN</td>\n",
       "      <td>NaN</td>\n",
       "    </tr>\n",
       "    <tr>\n",
       "      <th>mean</th>\n",
       "      <td>49.349915</td>\n",
       "      <td>NaN</td>\n",
       "      <td>NaN</td>\n",
       "      <td>79.100198</td>\n",
       "      <td>167.028124</td>\n",
       "      <td>28.296022</td>\n",
       "      <td>0.315951</td>\n",
       "      <td>96.845178</td>\n",
       "      <td>125.832213</td>\n",
       "      <td>71.516827</td>\n",
       "      <td>...</td>\n",
       "      <td>0.063610</td>\n",
       "      <td>0.304041</td>\n",
       "      <td>0.402412</td>\n",
       "      <td>0.233238</td>\n",
       "      <td>0.111351</td>\n",
       "      <td>0.311781</td>\n",
       "      <td>0.06653</td>\n",
       "      <td>0.020503</td>\n",
       "      <td>0.029029</td>\n",
       "      <td>0.077333</td>\n",
       "    </tr>\n",
       "    <tr>\n",
       "      <th>std</th>\n",
       "      <td>18.831309</td>\n",
       "      <td>NaN</td>\n",
       "      <td>NaN</td>\n",
       "      <td>19.406975</td>\n",
       "      <td>10.103450</td>\n",
       "      <td>6.184846</td>\n",
       "      <td>0.464921</td>\n",
       "      <td>15.101170</td>\n",
       "      <td>21.046860</td>\n",
       "      <td>12.672351</td>\n",
       "      <td>...</td>\n",
       "      <td>0.244071</td>\n",
       "      <td>0.460026</td>\n",
       "      <td>0.490412</td>\n",
       "      <td>0.422917</td>\n",
       "      <td>0.314585</td>\n",
       "      <td>0.463247</td>\n",
       "      <td>0.24922</td>\n",
       "      <td>0.141723</td>\n",
       "      <td>0.167896</td>\n",
       "      <td>0.267142</td>\n",
       "    </tr>\n",
       "    <tr>\n",
       "      <th>min</th>\n",
       "      <td>20.000000</td>\n",
       "      <td>NaN</td>\n",
       "      <td>NaN</td>\n",
       "      <td>25.600000</td>\n",
       "      <td>130.400000</td>\n",
       "      <td>12.040000</td>\n",
       "      <td>0.000000</td>\n",
       "      <td>58.500000</td>\n",
       "      <td>72.000000</td>\n",
       "      <td>10.000000</td>\n",
       "      <td>...</td>\n",
       "      <td>0.000000</td>\n",
       "      <td>0.000000</td>\n",
       "      <td>0.000000</td>\n",
       "      <td>0.000000</td>\n",
       "      <td>0.000000</td>\n",
       "      <td>0.000000</td>\n",
       "      <td>0.00000</td>\n",
       "      <td>0.000000</td>\n",
       "      <td>0.000000</td>\n",
       "      <td>0.000000</td>\n",
       "    </tr>\n",
       "    <tr>\n",
       "      <th>25%</th>\n",
       "      <td>33.000000</td>\n",
       "      <td>NaN</td>\n",
       "      <td>NaN</td>\n",
       "      <td>65.400000</td>\n",
       "      <td>159.700000</td>\n",
       "      <td>24.080000</td>\n",
       "      <td>0.000000</td>\n",
       "      <td>86.200000</td>\n",
       "      <td>111.000000</td>\n",
       "      <td>64.000000</td>\n",
       "      <td>...</td>\n",
       "      <td>0.000000</td>\n",
       "      <td>0.000000</td>\n",
       "      <td>0.000000</td>\n",
       "      <td>0.000000</td>\n",
       "      <td>0.000000</td>\n",
       "      <td>0.000000</td>\n",
       "      <td>0.00000</td>\n",
       "      <td>0.000000</td>\n",
       "      <td>0.000000</td>\n",
       "      <td>0.000000</td>\n",
       "    </tr>\n",
       "    <tr>\n",
       "      <th>50%</th>\n",
       "      <td>47.000000</td>\n",
       "      <td>NaN</td>\n",
       "      <td>NaN</td>\n",
       "      <td>76.800000</td>\n",
       "      <td>166.600000</td>\n",
       "      <td>27.360000</td>\n",
       "      <td>0.000000</td>\n",
       "      <td>96.300000</td>\n",
       "      <td>122.000000</td>\n",
       "      <td>72.000000</td>\n",
       "      <td>...</td>\n",
       "      <td>0.000000</td>\n",
       "      <td>0.000000</td>\n",
       "      <td>0.000000</td>\n",
       "      <td>0.000000</td>\n",
       "      <td>0.000000</td>\n",
       "      <td>0.000000</td>\n",
       "      <td>0.00000</td>\n",
       "      <td>0.000000</td>\n",
       "      <td>0.000000</td>\n",
       "      <td>0.000000</td>\n",
       "    </tr>\n",
       "    <tr>\n",
       "      <th>75%</th>\n",
       "      <td>65.000000</td>\n",
       "      <td>NaN</td>\n",
       "      <td>NaN</td>\n",
       "      <td>89.550000</td>\n",
       "      <td>174.200000</td>\n",
       "      <td>31.380000</td>\n",
       "      <td>1.000000</td>\n",
       "      <td>106.100000</td>\n",
       "      <td>136.000000</td>\n",
       "      <td>79.000000</td>\n",
       "      <td>...</td>\n",
       "      <td>0.000000</td>\n",
       "      <td>1.000000</td>\n",
       "      <td>1.000000</td>\n",
       "      <td>0.000000</td>\n",
       "      <td>0.000000</td>\n",
       "      <td>1.000000</td>\n",
       "      <td>0.00000</td>\n",
       "      <td>0.000000</td>\n",
       "      <td>0.000000</td>\n",
       "      <td>0.000000</td>\n",
       "    </tr>\n",
       "    <tr>\n",
       "      <th>max</th>\n",
       "      <td>85.000000</td>\n",
       "      <td>NaN</td>\n",
       "      <td>NaN</td>\n",
       "      <td>193.300000</td>\n",
       "      <td>200.100000</td>\n",
       "      <td>66.440000</td>\n",
       "      <td>1.000000</td>\n",
       "      <td>173.400000</td>\n",
       "      <td>233.000000</td>\n",
       "      <td>132.000000</td>\n",
       "      <td>...</td>\n",
       "      <td>1.000000</td>\n",
       "      <td>1.000000</td>\n",
       "      <td>1.000000</td>\n",
       "      <td>1.000000</td>\n",
       "      <td>1.000000</td>\n",
       "      <td>1.000000</td>\n",
       "      <td>1.00000</td>\n",
       "      <td>1.000000</td>\n",
       "      <td>1.000000</td>\n",
       "      <td>1.000000</td>\n",
       "    </tr>\n",
       "  </tbody>\n",
       "</table>\n",
       "<p>11 rows × 30 columns</p>\n",
       "</div>"
      ],
      "text/plain": [
       "                Age Gender Region       Weight       Height  Body Mass Index  \\\n",
       "count   8785.000000   8785   8785  8591.000000  8594.000000      8495.000000   \n",
       "unique          NaN      2      4          NaN          NaN              NaN   \n",
       "top             NaN      M   east          NaN          NaN              NaN   \n",
       "freq            NaN   4630   4324          NaN          NaN              NaN   \n",
       "mean      49.349915    NaN    NaN    79.100198   167.028124        28.296022   \n",
       "std       18.831309    NaN    NaN    19.406975    10.103450         6.184846   \n",
       "min       20.000000    NaN    NaN    25.600000   130.400000        12.040000   \n",
       "25%       33.000000    NaN    NaN    65.400000   159.700000        24.080000   \n",
       "50%       47.000000    NaN    NaN    76.800000   166.600000        27.360000   \n",
       "75%       65.000000    NaN    NaN    89.550000   174.200000        31.380000   \n",
       "max       85.000000    NaN    NaN   193.300000   200.100000        66.440000   \n",
       "\n",
       "            Obesity        Waist  Maximum Blood Pressure  \\\n",
       "count   8495.000000  8471.000000             8481.000000   \n",
       "unique          NaN          NaN                     NaN   \n",
       "top             NaN          NaN                     NaN   \n",
       "freq            NaN          NaN                     NaN   \n",
       "mean       0.315951    96.845178              125.832213   \n",
       "std        0.464921    15.101170               21.046860   \n",
       "min        0.000000    58.500000               72.000000   \n",
       "25%        0.000000    86.200000              111.000000   \n",
       "50%        0.000000    96.300000              122.000000   \n",
       "75%        1.000000   106.100000              136.000000   \n",
       "max        1.000000   173.400000              233.000000   \n",
       "\n",
       "        Minimum Blood Pressure  ...   PoorVision  Alcohol Consumption  \\\n",
       "count              8409.000000  ...  8222.000000          8785.000000   \n",
       "unique                     NaN  ...          NaN                  NaN   \n",
       "top                        NaN  ...          NaN                  NaN   \n",
       "freq                       NaN  ...          NaN                  NaN   \n",
       "mean                 71.516827  ...     0.063610             0.304041   \n",
       "std                  12.672351  ...     0.244071             0.460026   \n",
       "min                  10.000000  ...     0.000000             0.000000   \n",
       "25%                  64.000000  ...     0.000000             0.000000   \n",
       "50%                  72.000000  ...     0.000000             0.000000   \n",
       "75%                  79.000000  ...     0.000000             1.000000   \n",
       "max                 132.000000  ...     1.000000             1.000000   \n",
       "\n",
       "        HyperTension  Family  HyperTension     Diabetes  Family Diabetes  \\\n",
       "count    8705.000000           8785.000000  8783.000000      8785.000000   \n",
       "unique           NaN                   NaN          NaN              NaN   \n",
       "top              NaN                   NaN          NaN              NaN   \n",
       "freq             NaN                   NaN          NaN              NaN   \n",
       "mean        0.402412              0.233238     0.111351         0.311781   \n",
       "std         0.490412              0.422917     0.314585         0.463247   \n",
       "min         0.000000              0.000000     0.000000         0.000000   \n",
       "25%         0.000000              0.000000     0.000000         0.000000   \n",
       "50%         0.000000              0.000000     0.000000         0.000000   \n",
       "75%         1.000000              0.000000     0.000000         1.000000   \n",
       "max         1.000000              1.000000     1.000000         1.000000   \n",
       "\n",
       "         Hepatitis  Family Hepatitis  Chronic Fatigue          ALF  \n",
       "count   8763.00000       8779.000000      8750.000000  6000.000000  \n",
       "unique         NaN               NaN              NaN          NaN  \n",
       "top            NaN               NaN              NaN          NaN  \n",
       "freq           NaN               NaN              NaN          NaN  \n",
       "mean       0.06653          0.020503         0.029029     0.077333  \n",
       "std        0.24922          0.141723         0.167896     0.267142  \n",
       "min        0.00000          0.000000         0.000000     0.000000  \n",
       "25%        0.00000          0.000000         0.000000     0.000000  \n",
       "50%        0.00000          0.000000         0.000000     0.000000  \n",
       "75%        0.00000          0.000000         0.000000     0.000000  \n",
       "max        1.00000          1.000000         1.000000     1.000000  \n",
       "\n",
       "[11 rows x 30 columns]"
      ]
     },
     "execution_count": 107,
     "metadata": {},
     "output_type": "execute_result"
    }
   ],
   "source": [
    "data.describe(include = 'all')"
   ]
  },
  {
   "cell_type": "code",
   "execution_count": 108,
   "metadata": {},
   "outputs": [
    {
     "name": "stdout",
     "output_type": "stream",
     "text": [
      "<class 'pandas.core.frame.DataFrame'>\n",
      "RangeIndex: 8785 entries, 0 to 8784\n",
      "Data columns (total 30 columns):\n",
      " #   Column                  Non-Null Count  Dtype  \n",
      "---  ------                  --------------  -----  \n",
      " 0   Age                     8785 non-null   int64  \n",
      " 1   Gender                  8785 non-null   object \n",
      " 2   Region                  8785 non-null   object \n",
      " 3   Weight                  8591 non-null   float64\n",
      " 4   Height                  8594 non-null   float64\n",
      " 5   Body Mass Index         8495 non-null   float64\n",
      " 6   Obesity                 8495 non-null   float64\n",
      " 7   Waist                   8471 non-null   float64\n",
      " 8   Maximum Blood Pressure  8481 non-null   float64\n",
      " 9   Minimum Blood Pressure  8409 non-null   float64\n",
      " 10  Good Cholesterol        8768 non-null   float64\n",
      " 11  Bad Cholesterol         8767 non-null   float64\n",
      " 12  Total Cholesterol       8769 non-null   float64\n",
      " 13  Dyslipidemia            8785 non-null   int64  \n",
      " 14  PVD                     8785 non-null   int64  \n",
      " 15  Physical Activity       8775 non-null   float64\n",
      " 16  Education               8765 non-null   float64\n",
      " 17  Unmarried               8333 non-null   float64\n",
      " 18  Income                  7624 non-null   float64\n",
      " 19  Source of Care          8785 non-null   object \n",
      " 20  PoorVision              8222 non-null   float64\n",
      " 21  Alcohol Consumption     8785 non-null   int64  \n",
      " 22  HyperTension            8705 non-null   float64\n",
      " 23  Family  HyperTension    8785 non-null   int64  \n",
      " 24  Diabetes                8783 non-null   float64\n",
      " 25  Family Diabetes         8785 non-null   int64  \n",
      " 26  Hepatitis               8763 non-null   float64\n",
      " 27  Family Hepatitis        8779 non-null   float64\n",
      " 28  Chronic Fatigue         8750 non-null   float64\n",
      " 29  ALF                     6000 non-null   float64\n",
      "dtypes: float64(21), int64(6), object(3)\n",
      "memory usage: 2.0+ MB\n"
     ]
    }
   ],
   "source": [
    "data.info()"
   ]
  },
  {
   "cell_type": "code",
   "execution_count": 109,
   "metadata": {},
   "outputs": [
    {
     "data": {
      "text/plain": [
       "Age                         int64\n",
       "Gender                     object\n",
       "Region                     object\n",
       "Weight                    float64\n",
       "Height                    float64\n",
       "Body Mass Index           float64\n",
       "Obesity                   float64\n",
       "Waist                     float64\n",
       "Maximum Blood Pressure    float64\n",
       "Minimum Blood Pressure    float64\n",
       "Good Cholesterol          float64\n",
       "Bad Cholesterol           float64\n",
       "Total Cholesterol         float64\n",
       "Dyslipidemia                int64\n",
       "PVD                         int64\n",
       "Physical Activity         float64\n",
       "Education                 float64\n",
       "Unmarried                 float64\n",
       "Income                    float64\n",
       "Source of Care             object\n",
       "PoorVision                float64\n",
       "Alcohol Consumption         int64\n",
       "HyperTension              float64\n",
       "Family  HyperTension        int64\n",
       "Diabetes                  float64\n",
       "Family Diabetes             int64\n",
       "Hepatitis                 float64\n",
       "Family Hepatitis          float64\n",
       "Chronic Fatigue           float64\n",
       "ALF                       float64\n",
       "dtype: object"
      ]
     },
     "execution_count": 109,
     "metadata": {},
     "output_type": "execute_result"
    }
   ],
   "source": [
    "data.dtypes\n",
    "# Gender and Region and Source of Care are not numerical"
   ]
  },
  {
   "cell_type": "code",
   "execution_count": 110,
   "metadata": {},
   "outputs": [
    {
     "data": {
      "text/plain": [
       "Age                          0\n",
       "Gender                       0\n",
       "Region                       0\n",
       "Weight                     194\n",
       "Height                     191\n",
       "Body Mass Index            290\n",
       "Obesity                    290\n",
       "Waist                      314\n",
       "Maximum Blood Pressure     304\n",
       "Minimum Blood Pressure     376\n",
       "Good Cholesterol            17\n",
       "Bad Cholesterol             18\n",
       "Total Cholesterol           16\n",
       "Dyslipidemia                 0\n",
       "PVD                          0\n",
       "Physical Activity           10\n",
       "Education                   20\n",
       "Unmarried                  452\n",
       "Income                    1161\n",
       "Source of Care               0\n",
       "PoorVision                 563\n",
       "Alcohol Consumption          0\n",
       "HyperTension                80\n",
       "Family  HyperTension         0\n",
       "Diabetes                     2\n",
       "Family Diabetes              0\n",
       "Hepatitis                   22\n",
       "Family Hepatitis             6\n",
       "Chronic Fatigue             35\n",
       "ALF                       2785\n",
       "dtype: int64"
      ]
     },
     "execution_count": 110,
     "metadata": {},
     "output_type": "execute_result"
    }
   ],
   "source": [
    "data.isnull().sum()"
   ]
  },
  {
   "cell_type": "code",
   "execution_count": 111,
   "metadata": {},
   "outputs": [
    {
     "data": {
      "text/plain": [
       "0.0    5536\n",
       "1.0     464\n",
       "Name: ALF, dtype: int64"
      ]
     },
     "execution_count": 111,
     "metadata": {},
     "output_type": "execute_result"
    }
   ],
   "source": [
    "data['ALF'].value_counts()"
   ]
  },
  {
   "cell_type": "code",
   "execution_count": 112,
   "metadata": {},
   "outputs": [
    {
     "data": {
      "text/html": [
       "<div>\n",
       "<style scoped>\n",
       "    .dataframe tbody tr th:only-of-type {\n",
       "        vertical-align: middle;\n",
       "    }\n",
       "\n",
       "    .dataframe tbody tr th {\n",
       "        vertical-align: top;\n",
       "    }\n",
       "\n",
       "    .dataframe thead th {\n",
       "        text-align: right;\n",
       "    }\n",
       "</style>\n",
       "<table border=\"1\" class=\"dataframe\">\n",
       "  <thead>\n",
       "    <tr style=\"text-align: right;\">\n",
       "      <th></th>\n",
       "      <th>0</th>\n",
       "      <th>1</th>\n",
       "      <th>2</th>\n",
       "      <th>3</th>\n",
       "      <th>4</th>\n",
       "    </tr>\n",
       "  </thead>\n",
       "  <tbody>\n",
       "    <tr>\n",
       "      <th>Age</th>\n",
       "      <td>65</td>\n",
       "      <td>36</td>\n",
       "      <td>66</td>\n",
       "      <td>54</td>\n",
       "      <td>63</td>\n",
       "    </tr>\n",
       "    <tr>\n",
       "      <th>Gender</th>\n",
       "      <td>M</td>\n",
       "      <td>M</td>\n",
       "      <td>M</td>\n",
       "      <td>M</td>\n",
       "      <td>M</td>\n",
       "    </tr>\n",
       "    <tr>\n",
       "      <th>Region</th>\n",
       "      <td>east</td>\n",
       "      <td>south</td>\n",
       "      <td>east</td>\n",
       "      <td>east</td>\n",
       "      <td>north</td>\n",
       "    </tr>\n",
       "    <tr>\n",
       "      <th>Weight</th>\n",
       "      <td>56</td>\n",
       "      <td>60.2</td>\n",
       "      <td>83.9</td>\n",
       "      <td>69.4</td>\n",
       "      <td>73.1</td>\n",
       "    </tr>\n",
       "    <tr>\n",
       "      <th>Height</th>\n",
       "      <td>162.1</td>\n",
       "      <td>162.2</td>\n",
       "      <td>162.5</td>\n",
       "      <td>160.5</td>\n",
       "      <td>159.2</td>\n",
       "    </tr>\n",
       "    <tr>\n",
       "      <th>Body Mass Index</th>\n",
       "      <td>21.31</td>\n",
       "      <td>22.88</td>\n",
       "      <td>31.77</td>\n",
       "      <td>26.94</td>\n",
       "      <td>28.84</td>\n",
       "    </tr>\n",
       "    <tr>\n",
       "      <th>Obesity</th>\n",
       "      <td>0</td>\n",
       "      <td>0</td>\n",
       "      <td>1</td>\n",
       "      <td>0</td>\n",
       "      <td>0</td>\n",
       "    </tr>\n",
       "    <tr>\n",
       "      <th>Waist</th>\n",
       "      <td>83.6</td>\n",
       "      <td>76.6</td>\n",
       "      <td>113.2</td>\n",
       "      <td>77.9</td>\n",
       "      <td>89.3</td>\n",
       "    </tr>\n",
       "    <tr>\n",
       "      <th>Maximum Blood Pressure</th>\n",
       "      <td>135</td>\n",
       "      <td>96</td>\n",
       "      <td>115</td>\n",
       "      <td>110</td>\n",
       "      <td>132</td>\n",
       "    </tr>\n",
       "    <tr>\n",
       "      <th>Minimum Blood Pressure</th>\n",
       "      <td>71</td>\n",
       "      <td>52</td>\n",
       "      <td>57</td>\n",
       "      <td>57</td>\n",
       "      <td>73</td>\n",
       "    </tr>\n",
       "    <tr>\n",
       "      <th>Good Cholesterol</th>\n",
       "      <td>48</td>\n",
       "      <td>31</td>\n",
       "      <td>44</td>\n",
       "      <td>74</td>\n",
       "      <td>67</td>\n",
       "    </tr>\n",
       "    <tr>\n",
       "      <th>Bad Cholesterol</th>\n",
       "      <td>249</td>\n",
       "      <td>135</td>\n",
       "      <td>211</td>\n",
       "      <td>156</td>\n",
       "      <td>154</td>\n",
       "    </tr>\n",
       "    <tr>\n",
       "      <th>Total Cholesterol</th>\n",
       "      <td>297</td>\n",
       "      <td>166</td>\n",
       "      <td>255</td>\n",
       "      <td>230</td>\n",
       "      <td>221</td>\n",
       "    </tr>\n",
       "    <tr>\n",
       "      <th>Dyslipidemia</th>\n",
       "      <td>0</td>\n",
       "      <td>0</td>\n",
       "      <td>1</td>\n",
       "      <td>0</td>\n",
       "      <td>0</td>\n",
       "    </tr>\n",
       "    <tr>\n",
       "      <th>PVD</th>\n",
       "      <td>0</td>\n",
       "      <td>0</td>\n",
       "      <td>0</td>\n",
       "      <td>0</td>\n",
       "      <td>0</td>\n",
       "    </tr>\n",
       "    <tr>\n",
       "      <th>Physical Activity</th>\n",
       "      <td>3</td>\n",
       "      <td>3</td>\n",
       "      <td>1</td>\n",
       "      <td>2</td>\n",
       "      <td>1</td>\n",
       "    </tr>\n",
       "    <tr>\n",
       "      <th>Education</th>\n",
       "      <td>0</td>\n",
       "      <td>0</td>\n",
       "      <td>0</td>\n",
       "      <td>1</td>\n",
       "      <td>0</td>\n",
       "    </tr>\n",
       "    <tr>\n",
       "      <th>Unmarried</th>\n",
       "      <td>0</td>\n",
       "      <td>NaN</td>\n",
       "      <td>1</td>\n",
       "      <td>0</td>\n",
       "      <td>0</td>\n",
       "    </tr>\n",
       "    <tr>\n",
       "      <th>Income</th>\n",
       "      <td>1</td>\n",
       "      <td>1</td>\n",
       "      <td>0</td>\n",
       "      <td>0</td>\n",
       "      <td>NaN</td>\n",
       "    </tr>\n",
       "    <tr>\n",
       "      <th>Source of Care</th>\n",
       "      <td>Governament Hospital</td>\n",
       "      <td>Never Counsulted</td>\n",
       "      <td>Never Counsulted</td>\n",
       "      <td>Private Hospital</td>\n",
       "      <td>clinic</td>\n",
       "    </tr>\n",
       "    <tr>\n",
       "      <th>PoorVision</th>\n",
       "      <td>0</td>\n",
       "      <td>0</td>\n",
       "      <td>0</td>\n",
       "      <td>0</td>\n",
       "      <td>0</td>\n",
       "    </tr>\n",
       "    <tr>\n",
       "      <th>Alcohol Consumption</th>\n",
       "      <td>1</td>\n",
       "      <td>0</td>\n",
       "      <td>1</td>\n",
       "      <td>1</td>\n",
       "      <td>0</td>\n",
       "    </tr>\n",
       "    <tr>\n",
       "      <th>HyperTension</th>\n",
       "      <td>0</td>\n",
       "      <td>0</td>\n",
       "      <td>0</td>\n",
       "      <td>0</td>\n",
       "      <td>1</td>\n",
       "    </tr>\n",
       "    <tr>\n",
       "      <th>Family  HyperTension</th>\n",
       "      <td>0</td>\n",
       "      <td>0</td>\n",
       "      <td>0</td>\n",
       "      <td>0</td>\n",
       "      <td>0</td>\n",
       "    </tr>\n",
       "    <tr>\n",
       "      <th>Diabetes</th>\n",
       "      <td>0</td>\n",
       "      <td>0</td>\n",
       "      <td>1</td>\n",
       "      <td>0</td>\n",
       "      <td>0</td>\n",
       "    </tr>\n",
       "    <tr>\n",
       "      <th>Family Diabetes</th>\n",
       "      <td>1</td>\n",
       "      <td>0</td>\n",
       "      <td>0</td>\n",
       "      <td>0</td>\n",
       "      <td>0</td>\n",
       "    </tr>\n",
       "    <tr>\n",
       "      <th>Hepatitis</th>\n",
       "      <td>1</td>\n",
       "      <td>0</td>\n",
       "      <td>0</td>\n",
       "      <td>0</td>\n",
       "      <td>0</td>\n",
       "    </tr>\n",
       "    <tr>\n",
       "      <th>Family Hepatitis</th>\n",
       "      <td>0</td>\n",
       "      <td>0</td>\n",
       "      <td>0</td>\n",
       "      <td>0</td>\n",
       "      <td>0</td>\n",
       "    </tr>\n",
       "    <tr>\n",
       "      <th>Chronic Fatigue</th>\n",
       "      <td>0</td>\n",
       "      <td>0</td>\n",
       "      <td>0</td>\n",
       "      <td>0</td>\n",
       "      <td>0</td>\n",
       "    </tr>\n",
       "    <tr>\n",
       "      <th>ALF</th>\n",
       "      <td>0</td>\n",
       "      <td>0</td>\n",
       "      <td>0</td>\n",
       "      <td>0</td>\n",
       "      <td>0</td>\n",
       "    </tr>\n",
       "  </tbody>\n",
       "</table>\n",
       "</div>"
      ],
      "text/plain": [
       "                                           0                 1  \\\n",
       "Age                                       65                36   \n",
       "Gender                                     M                 M   \n",
       "Region                                  east             south   \n",
       "Weight                                    56              60.2   \n",
       "Height                                 162.1             162.2   \n",
       "Body Mass Index                        21.31             22.88   \n",
       "Obesity                                    0                 0   \n",
       "Waist                                   83.6              76.6   \n",
       "Maximum Blood Pressure                   135                96   \n",
       "Minimum Blood Pressure                    71                52   \n",
       "Good Cholesterol                          48                31   \n",
       "Bad Cholesterol                          249               135   \n",
       "Total Cholesterol                        297               166   \n",
       "Dyslipidemia                               0                 0   \n",
       "PVD                                        0                 0   \n",
       "Physical Activity                          3                 3   \n",
       "Education                                  0                 0   \n",
       "Unmarried                                  0               NaN   \n",
       "Income                                     1                 1   \n",
       "Source of Care          Governament Hospital  Never Counsulted   \n",
       "PoorVision                                 0                 0   \n",
       "Alcohol Consumption                        1                 0   \n",
       "HyperTension                               0                 0   \n",
       "Family  HyperTension                       0                 0   \n",
       "Diabetes                                   0                 0   \n",
       "Family Diabetes                            1                 0   \n",
       "Hepatitis                                  1                 0   \n",
       "Family Hepatitis                           0                 0   \n",
       "Chronic Fatigue                            0                 0   \n",
       "ALF                                        0                 0   \n",
       "\n",
       "                                       2                 3       4  \n",
       "Age                                   66                54      63  \n",
       "Gender                                 M                 M       M  \n",
       "Region                              east              east   north  \n",
       "Weight                              83.9              69.4    73.1  \n",
       "Height                             162.5             160.5   159.2  \n",
       "Body Mass Index                    31.77             26.94   28.84  \n",
       "Obesity                                1                 0       0  \n",
       "Waist                              113.2              77.9    89.3  \n",
       "Maximum Blood Pressure               115               110     132  \n",
       "Minimum Blood Pressure                57                57      73  \n",
       "Good Cholesterol                      44                74      67  \n",
       "Bad Cholesterol                      211               156     154  \n",
       "Total Cholesterol                    255               230     221  \n",
       "Dyslipidemia                           1                 0       0  \n",
       "PVD                                    0                 0       0  \n",
       "Physical Activity                      1                 2       1  \n",
       "Education                              0                 1       0  \n",
       "Unmarried                              1                 0       0  \n",
       "Income                                 0                 0     NaN  \n",
       "Source of Care          Never Counsulted  Private Hospital  clinic  \n",
       "PoorVision                             0                 0       0  \n",
       "Alcohol Consumption                    1                 1       0  \n",
       "HyperTension                           0                 0       1  \n",
       "Family  HyperTension                   0                 0       0  \n",
       "Diabetes                               1                 0       0  \n",
       "Family Diabetes                        0                 0       0  \n",
       "Hepatitis                              0                 0       0  \n",
       "Family Hepatitis                       0                 0       0  \n",
       "Chronic Fatigue                        0                 0       0  \n",
       "ALF                                    0                 0       0  "
      ]
     },
     "execution_count": 112,
     "metadata": {},
     "output_type": "execute_result"
    }
   ],
   "source": [
    "data.head().T"
   ]
  },
  {
   "cell_type": "code",
   "execution_count": 113,
   "metadata": {},
   "outputs": [],
   "source": [
    "data = data.dropna(subset=['ALF'])"
   ]
  },
  {
   "cell_type": "code",
   "execution_count": 114,
   "metadata": {},
   "outputs": [
    {
     "data": {
      "text/plain": [
       "0"
      ]
     },
     "execution_count": 114,
     "metadata": {},
     "output_type": "execute_result"
    }
   ],
   "source": [
    "data['ALF'].isnull().sum()"
   ]
  },
  {
   "cell_type": "code",
   "execution_count": 115,
   "metadata": {},
   "outputs": [
    {
     "data": {
      "text/plain": [
       "Age                         0\n",
       "Gender                      0\n",
       "Region                      0\n",
       "Weight                    133\n",
       "Height                    139\n",
       "Body Mass Index           206\n",
       "Obesity                   206\n",
       "Waist                     215\n",
       "Maximum Blood Pressure    206\n",
       "Minimum Blood Pressure    252\n",
       "Good Cholesterol            8\n",
       "Bad Cholesterol             8\n",
       "Total Cholesterol           6\n",
       "Dyslipidemia                0\n",
       "PVD                         0\n",
       "Physical Activity           8\n",
       "Education                  15\n",
       "Unmarried                 301\n",
       "Income                    792\n",
       "Source of Care              0\n",
       "PoorVision                376\n",
       "Alcohol Consumption         0\n",
       "HyperTension               53\n",
       "Family  HyperTension        0\n",
       "Diabetes                    1\n",
       "Family Diabetes             0\n",
       "Hepatitis                  13\n",
       "Family Hepatitis            3\n",
       "Chronic Fatigue            26\n",
       "ALF                         0\n",
       "dtype: int64"
      ]
     },
     "execution_count": 115,
     "metadata": {},
     "output_type": "execute_result"
    }
   ],
   "source": [
    "data.isnull().sum()"
   ]
  },
  {
   "cell_type": "code",
   "execution_count": 116,
   "metadata": {},
   "outputs": [
    {
     "data": {
      "text/plain": [
       "0        56.0\n",
       "1        60.2\n",
       "2        83.9\n",
       "3        69.4\n",
       "4        73.1\n",
       "        ...  \n",
       "5995    109.3\n",
       "5996     86.6\n",
       "5997     78.0\n",
       "5998     78.8\n",
       "5999     62.3\n",
       "Name: Weight, Length: 6000, dtype: float64"
      ]
     },
     "execution_count": 116,
     "metadata": {},
     "output_type": "execute_result"
    }
   ],
   "source": [
    "data['Weight']"
   ]
  },
  {
   "cell_type": "code",
   "execution_count": 117,
   "metadata": {},
   "outputs": [
    {
     "data": {
      "text/plain": [
       "0       162.1\n",
       "1       162.2\n",
       "2       162.5\n",
       "3       160.5\n",
       "4       159.2\n",
       "        ...  \n",
       "5995    185.8\n",
       "5996    168.9\n",
       "5997    174.9\n",
       "5998    176.5\n",
       "5999    164.2\n",
       "Name: Height, Length: 6000, dtype: float64"
      ]
     },
     "execution_count": 117,
     "metadata": {},
     "output_type": "execute_result"
    }
   ],
   "source": [
    "data['Height']"
   ]
  },
  {
   "cell_type": "code",
   "execution_count": 118,
   "metadata": {},
   "outputs": [
    {
     "data": {
      "text/plain": [
       "0       21.31\n",
       "1       22.88\n",
       "2       31.77\n",
       "3       26.94\n",
       "4       28.84\n",
       "        ...  \n",
       "5995    31.66\n",
       "5996    30.36\n",
       "5997    25.50\n",
       "5998    25.30\n",
       "5999    23.11\n",
       "Name: Body Mass Index, Length: 6000, dtype: float64"
      ]
     },
     "execution_count": 118,
     "metadata": {},
     "output_type": "execute_result"
    }
   ],
   "source": [
    "data['Body Mass Index']"
   ]
  },
  {
   "cell_type": "code",
   "execution_count": 119,
   "metadata": {},
   "outputs": [
    {
     "data": {
      "text/plain": [
       "0       0.0\n",
       "1       0.0\n",
       "2       1.0\n",
       "3       0.0\n",
       "4       0.0\n",
       "       ... \n",
       "5995    1.0\n",
       "5996    1.0\n",
       "5997    0.0\n",
       "5998    0.0\n",
       "5999    0.0\n",
       "Name: Obesity, Length: 6000, dtype: float64"
      ]
     },
     "execution_count": 119,
     "metadata": {},
     "output_type": "execute_result"
    }
   ],
   "source": [
    "data['Obesity']"
   ]
  },
  {
   "cell_type": "code",
   "execution_count": 120,
   "metadata": {},
   "outputs": [
    {
     "data": {
      "text/plain": [
       "0        83.6\n",
       "1        76.6\n",
       "2       113.2\n",
       "3        77.9\n",
       "4        89.3\n",
       "        ...  \n",
       "5995    117.2\n",
       "5996     99.5\n",
       "5997     89.2\n",
       "5998    100.4\n",
       "5999     87.2\n",
       "Name: Waist, Length: 6000, dtype: float64"
      ]
     },
     "execution_count": 120,
     "metadata": {},
     "output_type": "execute_result"
    }
   ],
   "source": [
    "data['Waist']"
   ]
  },
  {
   "cell_type": "code",
   "execution_count": 121,
   "metadata": {},
   "outputs": [
    {
     "data": {
      "text/plain": [
       "0       135.0\n",
       "1        96.0\n",
       "2       115.0\n",
       "3       110.0\n",
       "4       132.0\n",
       "        ...  \n",
       "5995    149.0\n",
       "5996    130.0\n",
       "5997    126.0\n",
       "5998    129.0\n",
       "5999     95.0\n",
       "Name: Maximum Blood Pressure, Length: 6000, dtype: float64"
      ]
     },
     "execution_count": 121,
     "metadata": {},
     "output_type": "execute_result"
    }
   ],
   "source": [
    "data['Maximum Blood Pressure']"
   ]
  },
  {
   "cell_type": "code",
   "execution_count": 122,
   "metadata": {},
   "outputs": [
    {
     "data": {
      "text/plain": [
       "0       71.0\n",
       "1       52.0\n",
       "2       57.0\n",
       "3       57.0\n",
       "4       73.0\n",
       "        ... \n",
       "5995    77.0\n",
       "5996    75.0\n",
       "5997    83.0\n",
       "5998    50.0\n",
       "5999    59.0\n",
       "Name: Minimum Blood Pressure, Length: 6000, dtype: float64"
      ]
     },
     "execution_count": 122,
     "metadata": {},
     "output_type": "execute_result"
    }
   ],
   "source": [
    "data['Minimum Blood Pressure']"
   ]
  },
  {
   "cell_type": "code",
   "execution_count": 123,
   "metadata": {},
   "outputs": [
    {
     "data": {
      "text/plain": [
       "0       0.0\n",
       "1       NaN\n",
       "2       1.0\n",
       "3       0.0\n",
       "4       0.0\n",
       "       ... \n",
       "5995    0.0\n",
       "5996    0.0\n",
       "5997    1.0\n",
       "5998    1.0\n",
       "5999    0.0\n",
       "Name: Unmarried, Length: 6000, dtype: float64"
      ]
     },
     "execution_count": 123,
     "metadata": {},
     "output_type": "execute_result"
    }
   ],
   "source": [
    "data['Unmarried']"
   ]
  },
  {
   "cell_type": "code",
   "execution_count": 124,
   "metadata": {},
   "outputs": [
    {
     "data": {
      "text/plain": [
       "0       1.0\n",
       "1       1.0\n",
       "2       0.0\n",
       "3       0.0\n",
       "4       NaN\n",
       "       ... \n",
       "5995    0.0\n",
       "5996    1.0\n",
       "5997    0.0\n",
       "5998    0.0\n",
       "5999    1.0\n",
       "Name: Income, Length: 6000, dtype: float64"
      ]
     },
     "execution_count": 124,
     "metadata": {},
     "output_type": "execute_result"
    }
   ],
   "source": [
    "data['Income']"
   ]
  },
  {
   "cell_type": "code",
   "execution_count": 125,
   "metadata": {},
   "outputs": [
    {
     "data": {
      "text/plain": [
       "0       0.0\n",
       "1       0.0\n",
       "2       0.0\n",
       "3       0.0\n",
       "4       0.0\n",
       "       ... \n",
       "5995    0.0\n",
       "5996    0.0\n",
       "5997    0.0\n",
       "5998    0.0\n",
       "5999    0.0\n",
       "Name: PoorVision, Length: 6000, dtype: float64"
      ]
     },
     "execution_count": 125,
     "metadata": {},
     "output_type": "execute_result"
    }
   ],
   "source": [
    "data['PoorVision']"
   ]
  },
  {
   "cell_type": "code",
   "execution_count": 126,
   "metadata": {},
   "outputs": [
    {
     "data": {
      "text/plain": [
       "0.0    3016\n",
       "1.0    2192\n",
       "Name: Income, dtype: int64"
      ]
     },
     "execution_count": 126,
     "metadata": {},
     "output_type": "execute_result"
    }
   ],
   "source": [
    "data['Income'].value_counts()"
   ]
  },
  {
   "cell_type": "code",
   "execution_count": 127,
   "metadata": {},
   "outputs": [
    {
     "data": {
      "text/plain": [
       "0.0    3562\n",
       "1.0    2137\n",
       "Name: Unmarried, dtype: int64"
      ]
     },
     "execution_count": 127,
     "metadata": {},
     "output_type": "execute_result"
    }
   ],
   "source": [
    "data['Unmarried'].value_counts()"
   ]
  },
  {
   "cell_type": "markdown",
   "metadata": {},
   "source": [
    "## Gender and Region and Source of Care are not numerical \n",
    "should convert to nums"
   ]
  },
  {
   "cell_type": "code",
   "execution_count": 128,
   "metadata": {},
   "outputs": [
    {
     "name": "stderr",
     "output_type": "stream",
     "text": [
      "<ipython-input-128-9030ecd881de>:1: SettingWithCopyWarning: \n",
      "A value is trying to be set on a copy of a slice from a DataFrame.\n",
      "Try using .loc[row_indexer,col_indexer] = value instead\n",
      "\n",
      "See the caveats in the documentation: https://pandas.pydata.org/pandas-docs/stable/user_guide/indexing.html#returning-a-view-versus-a-copy\n",
      "  data['Gender'] = data['Gender'].map({'F':0, 'M':1})\n"
     ]
    }
   ],
   "source": [
    "data['Gender'] = data['Gender'].map({'F':0, 'M':1})"
   ]
  },
  {
   "cell_type": "code",
   "execution_count": 129,
   "metadata": {},
   "outputs": [
    {
     "data": {
      "text/plain": [
       "0       1\n",
       "1       1\n",
       "2       1\n",
       "3       1\n",
       "4       1\n",
       "       ..\n",
       "5995    0\n",
       "5996    0\n",
       "5997    0\n",
       "5998    0\n",
       "5999    1\n",
       "Name: Gender, Length: 6000, dtype: int64"
      ]
     },
     "execution_count": 129,
     "metadata": {},
     "output_type": "execute_result"
    }
   ],
   "source": [
    "data.Gender"
   ]
  },
  {
   "cell_type": "code",
   "execution_count": 130,
   "metadata": {},
   "outputs": [
    {
     "name": "stderr",
     "output_type": "stream",
     "text": [
      "<ipython-input-130-75176be36371>:1: SettingWithCopyWarning: \n",
      "A value is trying to be set on a copy of a slice from a DataFrame.\n",
      "Try using .loc[row_indexer,col_indexer] = value instead\n",
      "\n",
      "See the caveats in the documentation: https://pandas.pydata.org/pandas-docs/stable/user_guide/indexing.html#returning-a-view-versus-a-copy\n",
      "  data['Region'] = data['Region'].map({'north':0, 'south':1, 'east ':2, 'west':3 })\n"
     ]
    }
   ],
   "source": [
    "data['Region'] = data['Region'].map({'north':0, 'south':1, 'east ':2, 'west':3 })"
   ]
  },
  {
   "cell_type": "code",
   "execution_count": 131,
   "metadata": {},
   "outputs": [
    {
     "data": {
      "text/plain": [
       "0       NaN\n",
       "1       1.0\n",
       "2       NaN\n",
       "3       NaN\n",
       "4       0.0\n",
       "       ... \n",
       "5995    NaN\n",
       "5996    NaN\n",
       "5997    0.0\n",
       "5998    0.0\n",
       "5999    NaN\n",
       "Name: Region, Length: 6000, dtype: float64"
      ]
     },
     "execution_count": 131,
     "metadata": {},
     "output_type": "execute_result"
    }
   ],
   "source": [
    "data.Region"
   ]
  },
  {
   "cell_type": "code",
   "execution_count": 132,
   "metadata": {},
   "outputs": [
    {
     "name": "stderr",
     "output_type": "stream",
     "text": [
      "<ipython-input-132-b9b9c9366048>:1: SettingWithCopyWarning: \n",
      "A value is trying to be set on a copy of a slice from a DataFrame.\n",
      "Try using .loc[row_indexer,col_indexer] = value instead\n",
      "\n",
      "See the caveats in the documentation: https://pandas.pydata.org/pandas-docs/stable/user_guide/indexing.html#returning-a-view-versus-a-copy\n",
      "  data['Source of Care'] = data['Source of Care'].map({'Governament Hospital':0, 'Never Counsulted':1, 'Private Hospital':2, 'clinic':3, })\n"
     ]
    }
   ],
   "source": [
    "data['Source of Care'] = data['Source of Care'].map({'Governament Hospital':0, 'Never Counsulted':1, 'Private Hospital':2, 'clinic':3, })"
   ]
  },
  {
   "cell_type": "code",
   "execution_count": 133,
   "metadata": {},
   "outputs": [
    {
     "ename": "SyntaxError",
     "evalue": "invalid syntax (<ipython-input-133-70bf8dc13111>, line 1)",
     "output_type": "error",
     "traceback": [
      "\u001b[1;36m  File \u001b[1;32m\"<ipython-input-133-70bf8dc13111>\"\u001b[1;36m, line \u001b[1;32m1\u001b[0m\n\u001b[1;33m    data.Source of Care\u001b[0m\n\u001b[1;37m                ^\u001b[0m\n\u001b[1;31mSyntaxError\u001b[0m\u001b[1;31m:\u001b[0m invalid syntax\n"
     ]
    }
   ],
   "source": [
    "data.Source of Care"
   ]
  },
  {
   "cell_type": "code",
   "execution_count": 134,
   "metadata": {},
   "outputs": [
    {
     "data": {
      "text/plain": [
       "Age                         int64\n",
       "Gender                      int64\n",
       "Region                    float64\n",
       "Weight                    float64\n",
       "Height                    float64\n",
       "Body Mass Index           float64\n",
       "Obesity                   float64\n",
       "Waist                     float64\n",
       "Maximum Blood Pressure    float64\n",
       "Minimum Blood Pressure    float64\n",
       "Good Cholesterol          float64\n",
       "Bad Cholesterol           float64\n",
       "Total Cholesterol         float64\n",
       "Dyslipidemia                int64\n",
       "PVD                         int64\n",
       "Physical Activity         float64\n",
       "Education                 float64\n",
       "Unmarried                 float64\n",
       "Income                    float64\n",
       "Source of Care            float64\n",
       "PoorVision                float64\n",
       "Alcohol Consumption         int64\n",
       "HyperTension              float64\n",
       "Family  HyperTension        int64\n",
       "Diabetes                  float64\n",
       "Family Diabetes             int64\n",
       "Hepatitis                 float64\n",
       "Family Hepatitis          float64\n",
       "Chronic Fatigue           float64\n",
       "ALF                       float64\n",
       "dtype: object"
      ]
     },
     "execution_count": 134,
     "metadata": {},
     "output_type": "execute_result"
    }
   ],
   "source": [
    "data.dtypes"
   ]
  },
  {
   "cell_type": "markdown",
   "metadata": {},
   "source": [
    "## The number of missing values in the data set for each column"
   ]
  },
  {
   "cell_type": "code",
   "execution_count": 135,
   "metadata": {},
   "outputs": [
    {
     "data": {
      "text/plain": [
       "Age                          0\n",
       "Gender                       0\n",
       "Region                    2974\n",
       "Weight                     133\n",
       "Height                     139\n",
       "Body Mass Index            206\n",
       "Obesity                    206\n",
       "Waist                      215\n",
       "Maximum Blood Pressure     206\n",
       "Minimum Blood Pressure     252\n",
       "Good Cholesterol             8\n",
       "Bad Cholesterol              8\n",
       "Total Cholesterol            6\n",
       "Dyslipidemia                 0\n",
       "PVD                          0\n",
       "Physical Activity            8\n",
       "Education                   15\n",
       "Unmarried                  301\n",
       "Income                     792\n",
       "Source of Care               2\n",
       "PoorVision                 376\n",
       "Alcohol Consumption          0\n",
       "HyperTension                53\n",
       "Family  HyperTension         0\n",
       "Diabetes                     1\n",
       "Family Diabetes              0\n",
       "Hepatitis                   13\n",
       "Family Hepatitis             3\n",
       "Chronic Fatigue             26\n",
       "ALF                          0\n",
       "dtype: int64"
      ]
     },
     "execution_count": 135,
     "metadata": {},
     "output_type": "execute_result"
    }
   ],
   "source": [
    "data.isnull().sum()"
   ]
  },
  {
   "cell_type": "markdown",
   "metadata": {},
   "source": [
    "## Filling the null data in inputs(x)"
   ]
  },
  {
   "cell_type": "code",
   "execution_count": 136,
   "metadata": {},
   "outputs": [
    {
     "data": {
      "text/plain": [
       "1.0    1758\n",
       "0.0    1078\n",
       "3.0     190\n",
       "Name: Region, dtype: int64"
      ]
     },
     "execution_count": 136,
     "metadata": {},
     "output_type": "execute_result"
    }
   ],
   "source": [
    "data['Region'].value_counts() #good"
   ]
  },
  {
   "cell_type": "code",
   "execution_count": 137,
   "metadata": {},
   "outputs": [
    {
     "data": {
      "text/plain": [
       "62.80     26\n",
       "72.60     22\n",
       "78.00     21\n",
       "80.20     20\n",
       "75.30     20\n",
       "          ..\n",
       "100.64     1\n",
       "132.90     1\n",
       "125.20     1\n",
       "59.74      1\n",
       "39.00      1\n",
       "Name: Weight, Length: 1018, dtype: int64"
      ]
     },
     "execution_count": 137,
     "metadata": {},
     "output_type": "execute_result"
    }
   ],
   "source": [
    "data['Weight'].value_counts() #mean"
   ]
  },
  {
   "cell_type": "code",
   "execution_count": 138,
   "metadata": {},
   "outputs": [
    {
     "data": {
      "text/plain": [
       "165.9    33\n",
       "166.2    30\n",
       "164.2    29\n",
       "162.8    29\n",
       "160.6    28\n",
       "         ..\n",
       "191.0     1\n",
       "190.7     1\n",
       "190.4     1\n",
       "186.8     1\n",
       "140.4     1\n",
       "Name: Height, Length: 526, dtype: int64"
      ]
     },
     "execution_count": 138,
     "metadata": {},
     "output_type": "execute_result"
    }
   ],
   "source": [
    "data['Height'].value_counts() #mean"
   ]
  },
  {
   "cell_type": "code",
   "execution_count": 139,
   "metadata": {},
   "outputs": [
    {
     "data": {
      "text/plain": [
       "26.51    15\n",
       "25.11    11\n",
       "28.86    11\n",
       "28.08    11\n",
       "25.91    10\n",
       "         ..\n",
       "34.92     1\n",
       "28.59     1\n",
       "33.35     1\n",
       "34.42     1\n",
       "35.09     1\n",
       "Name: Body Mass Index, Length: 2149, dtype: int64"
      ]
     },
     "execution_count": 139,
     "metadata": {},
     "output_type": "execute_result"
    }
   ],
   "source": [
    "data['Body Mass Index'].value_counts() #mean"
   ]
  },
  {
   "cell_type": "code",
   "execution_count": 140,
   "metadata": {},
   "outputs": [
    {
     "data": {
      "text/plain": [
       "0.0    3989\n",
       "1.0    1805\n",
       "Name: Obesity, dtype: int64"
      ]
     },
     "execution_count": 140,
     "metadata": {},
     "output_type": "execute_result"
    }
   ],
   "source": [
    "data['Obesity'].value_counts() # Obesity ==چاقی  #good"
   ]
  },
  {
   "cell_type": "code",
   "execution_count": 141,
   "metadata": {},
   "outputs": [
    {
     "data": {
      "text/plain": [
       "98.0     40\n",
       "92.0     27\n",
       "91.0     27\n",
       "109.0    27\n",
       "90.0     26\n",
       "         ..\n",
       "58.6      1\n",
       "125.4     1\n",
       "163.6     1\n",
       "125.9     1\n",
       "60.4      1\n",
       "Name: Waist, Length: 756, dtype: int64"
      ]
     },
     "execution_count": 141,
     "metadata": {},
     "output_type": "execute_result"
    }
   ],
   "source": [
    "data['Waist'].value_counts() #mean"
   ]
  },
  {
   "cell_type": "code",
   "execution_count": 142,
   "metadata": {},
   "outputs": [
    {
     "data": {
      "text/plain": [
       "114.0    169\n",
       "115.0    158\n",
       "122.0    157\n",
       "120.0    137\n",
       "124.0    137\n",
       "        ... \n",
       "210.0      1\n",
       "83.0       1\n",
       "202.0      1\n",
       "217.0      1\n",
       "233.0      1\n",
       "Name: Maximum Blood Pressure, Length: 141, dtype: int64"
      ]
     },
     "execution_count": 142,
     "metadata": {},
     "output_type": "execute_result"
    }
   ],
   "source": [
    "data['Maximum Blood Pressure'].value_counts() #mean"
   ]
  },
  {
   "cell_type": "code",
   "execution_count": 143,
   "metadata": {},
   "outputs": [
    {
     "data": {
      "text/plain": [
       "70.0     246\n",
       "74.0     222\n",
       "72.0     220\n",
       "76.0     214\n",
       "78.0     201\n",
       "        ... \n",
       "18.0       1\n",
       "120.0      1\n",
       "24.0       1\n",
       "13.0       1\n",
       "127.0      1\n",
       "Name: Minimum Blood Pressure, Length: 99, dtype: int64"
      ]
     },
     "execution_count": 143,
     "metadata": {},
     "output_type": "execute_result"
    }
   ],
   "source": [
    "data['Minimum Blood Pressure'].value_counts() #mean"
   ]
  },
  {
   "cell_type": "code",
   "execution_count": 144,
   "metadata": {},
   "outputs": [
    {
     "data": {
      "text/plain": [
       "45.0     208\n",
       "44.0     191\n",
       "46.0     184\n",
       "42.0     183\n",
       "48.0     178\n",
       "        ... \n",
       "20.0       1\n",
       "12.0       1\n",
       "115.0      1\n",
       "94.0       1\n",
       "138.0      1\n",
       "Name: Good Cholesterol, Length: 107, dtype: int64"
      ]
     },
     "execution_count": 144,
     "metadata": {},
     "output_type": "execute_result"
    }
   ],
   "source": [
    "data['Good Cholesterol'].value_counts() #mean"
   ]
  },
  {
   "cell_type": "code",
   "execution_count": 145,
   "metadata": {},
   "outputs": [
    {
     "data": {
      "text/plain": [
       "132.0    70\n",
       "148.0    70\n",
       "158.0    67\n",
       "124.0    66\n",
       "135.0    66\n",
       "         ..\n",
       "372.0     1\n",
       "302.0     1\n",
       "282.0     1\n",
       "328.0     1\n",
       "243.0     1\n",
       "Name: Bad Cholesterol, Length: 266, dtype: int64"
      ]
     },
     "execution_count": 145,
     "metadata": {},
     "output_type": "execute_result"
    }
   ],
   "source": [
    "data['Bad Cholesterol'].value_counts() #mean"
   ]
  },
  {
   "cell_type": "code",
   "execution_count": 146,
   "metadata": {},
   "outputs": [
    {
     "data": {
      "text/plain": [
       "196.0    80\n",
       "194.0    76\n",
       "199.0    72\n",
       "215.0    71\n",
       "189.0    69\n",
       "         ..\n",
       "299.0     1\n",
       "445.0     1\n",
       "361.0     1\n",
       "475.0     1\n",
       "349.0     1\n",
       "Name: Total Cholesterol, Length: 265, dtype: int64"
      ]
     },
     "execution_count": 146,
     "metadata": {},
     "output_type": "execute_result"
    }
   ],
   "source": [
    "data['Total Cholesterol'].value_counts() #mean"
   ]
  },
  {
   "cell_type": "code",
   "execution_count": 147,
   "metadata": {},
   "outputs": [
    {
     "data": {
      "text/plain": [
       "2.0    3161\n",
       "1.0    1524\n",
       "3.0     914\n",
       "4.0     393\n",
       "Name: Physical Activity, dtype: int64"
      ]
     },
     "execution_count": 147,
     "metadata": {},
     "output_type": "execute_result"
    }
   ],
   "source": [
    "data['Physical Activity'].value_counts()  #good"
   ]
  },
  {
   "cell_type": "code",
   "execution_count": 148,
   "metadata": {},
   "outputs": [
    {
     "data": {
      "text/plain": [
       "0.0    3372\n",
       "1.0    2613\n",
       "Name: Education, dtype: int64"
      ]
     },
     "execution_count": 148,
     "metadata": {},
     "output_type": "execute_result"
    }
   ],
   "source": [
    "data['Education'].value_counts()  #good"
   ]
  },
  {
   "cell_type": "code",
   "execution_count": 149,
   "metadata": {},
   "outputs": [
    {
     "data": {
      "text/plain": [
       "0.0    3016\n",
       "1.0    2192\n",
       "Name: Income, dtype: int64"
      ]
     },
     "execution_count": 149,
     "metadata": {},
     "output_type": "execute_result"
    }
   ],
   "source": [
    "data['Income'].value_counts() #good"
   ]
  },
  {
   "cell_type": "code",
   "execution_count": 150,
   "metadata": {},
   "outputs": [
    {
     "data": {
      "text/plain": [
       "0.0    3562\n",
       "1.0    2137\n",
       "Name: Unmarried, dtype: int64"
      ]
     },
     "execution_count": 150,
     "metadata": {},
     "output_type": "execute_result"
    }
   ],
   "source": [
    "data['Unmarried'].value_counts() #good"
   ]
  },
  {
   "cell_type": "code",
   "execution_count": 151,
   "metadata": {},
   "outputs": [
    {
     "data": {
      "text/plain": [
       "2.0    3482\n",
       "3.0    1269\n",
       "1.0     925\n",
       "0.0     322\n",
       "Name: Source of Care, dtype: int64"
      ]
     },
     "execution_count": 151,
     "metadata": {},
     "output_type": "execute_result"
    }
   ],
   "source": [
    "data['Source of Care'].value_counts() #good"
   ]
  },
  {
   "cell_type": "code",
   "execution_count": 152,
   "metadata": {},
   "outputs": [
    {
     "data": {
      "text/plain": [
       "0.0    5287\n",
       "1.0     337\n",
       "Name: PoorVision, dtype: int64"
      ]
     },
     "execution_count": 152,
     "metadata": {},
     "output_type": "execute_result"
    }
   ],
   "source": [
    "data['PoorVision'].value_counts() #0.0"
   ]
  },
  {
   "cell_type": "code",
   "execution_count": 153,
   "metadata": {},
   "outputs": [
    {
     "data": {
      "text/plain": [
       "0.0    3573\n",
       "1.0    2374\n",
       "Name: HyperTension, dtype: int64"
      ]
     },
     "execution_count": 153,
     "metadata": {},
     "output_type": "execute_result"
    }
   ],
   "source": [
    "data['HyperTension'].value_counts() #good"
   ]
  },
  {
   "cell_type": "code",
   "execution_count": 154,
   "metadata": {},
   "outputs": [
    {
     "data": {
      "text/plain": [
       "0.0    5332\n",
       "1.0     667\n",
       "Name: Diabetes, dtype: int64"
      ]
     },
     "execution_count": 154,
     "metadata": {},
     "output_type": "execute_result"
    }
   ],
   "source": [
    "data['Diabetes'].value_counts() #0.0"
   ]
  },
  {
   "cell_type": "code",
   "execution_count": 155,
   "metadata": {},
   "outputs": [
    {
     "data": {
      "text/plain": [
       "0.0    5597\n",
       "1.0     390\n",
       "Name: Hepatitis, dtype: int64"
      ]
     },
     "execution_count": 155,
     "metadata": {},
     "output_type": "execute_result"
    }
   ],
   "source": [
    "data['Hepatitis'].value_counts() #0.0"
   ]
  },
  {
   "cell_type": "code",
   "execution_count": 156,
   "metadata": {},
   "outputs": [
    {
     "data": {
      "text/plain": [
       "0.0    5876\n",
       "1.0     121\n",
       "Name: Family Hepatitis, dtype: int64"
      ]
     },
     "execution_count": 156,
     "metadata": {},
     "output_type": "execute_result"
    }
   ],
   "source": [
    "data['Family Hepatitis'].value_counts() #0.0"
   ]
  },
  {
   "cell_type": "code",
   "execution_count": 157,
   "metadata": {},
   "outputs": [
    {
     "data": {
      "text/plain": [
       "0.0    5805\n",
       "1.0     169\n",
       "Name: Chronic Fatigue, dtype: int64"
      ]
     },
     "execution_count": 157,
     "metadata": {},
     "output_type": "execute_result"
    }
   ],
   "source": [
    "data['Chronic Fatigue'].value_counts() #0.0"
   ]
  },
  {
   "cell_type": "markdown",
   "metadata": {},
   "source": [
    "## Filling null data by scikit leran"
   ]
  },
  {
   "cell_type": "code",
   "execution_count": 158,
   "metadata": {},
   "outputs": [],
   "source": [
    "from numpy import random as rand"
   ]
  },
  {
   "cell_type": "code",
   "execution_count": 159,
   "metadata": {},
   "outputs": [
    {
     "data": {
      "text/plain": [
       "array([[  1.,   0.,   3., ...,  48., 249., 297.],\n",
       "       [  1.,   0.,   3., ...,  31., 135., 166.],\n",
       "       [  1.,   1.,   1., ...,  44., 211., 255.],\n",
       "       ...,\n",
       "       [  0.,   0.,   1., ...,  40., 131., 171.],\n",
       "       [  0.,   0.,   1., ...,  58., 134., 192.],\n",
       "       [  1.,   0.,   2., ...,  52., 102., 154.]])"
      ]
     },
     "execution_count": 159,
     "metadata": {},
     "output_type": "execute_result"
    }
   ],
   "source": [
    "from sklearn.impute import SimpleImputer\n",
    "from sklearn.compose import ColumnTransformer\n",
    "\n",
    "# fill strategy in here-----------------------------------------------------------\n",
    "# fill by constant values:\n",
    "#random number between 1, 2\n",
    "most_imputer = SimpleImputer(strategy = 'most_frequent')\n",
    "cons_imputer0 = SimpleImputer(strategy = 'constant', fill_value = 0)\n",
    "# cons_imputer10 = SimpleImputer(strategy = 'constant', fill_value = 10)\n",
    "mean_imputer = SimpleImputer(strategy = 'mean')\n",
    "# we have 5 strategy: fill by random(0,1), random(1,2), constant 0 , constant 10 and mean\n",
    "#------------------------------------------------------------------------------------\n",
    "\n",
    "# define features\n",
    "most_features = ['Region', 'Obesity', 'Physical Activity', 'Education', 'Unmarried',\n",
    "                 'Income', 'Unmarried', 'Source of Care', 'HyperTension']\n",
    "n0_features = ['PoorVision', 'Diabetes', 'Hepatitis', 'Family Hepatitis', 'Chronic Fatigue']\n",
    "# n10_features =['']\n",
    "mean_features = ['Weight', 'Maximum Blood Pressure', 'Minimum Blood Pressure', 'Good Cholesterol',\n",
    "                 'Bad Cholesterol', 'Total Cholesterol']\n",
    "imputer = ColumnTransformer([\n",
    "    ('most_imputer', most_imputer, most_features),\n",
    "    ('cons_imputer0', cons_imputer0, n0_features),\n",
    "#     ('cons_imputer10', cons_imputer10, n10_features),\n",
    "    ('mean_imputer', mean_imputer, mean_features),\n",
    "])\n",
    "\n",
    "filled_data = imputer.fit_transform(data)\n",
    "filled_data"
   ]
  },
  {
   "cell_type": "code",
   "execution_count": 160,
   "metadata": {},
   "outputs": [
    {
     "data": {
      "text/html": [
       "<div>\n",
       "<style scoped>\n",
       "    .dataframe tbody tr th:only-of-type {\n",
       "        vertical-align: middle;\n",
       "    }\n",
       "\n",
       "    .dataframe tbody tr th {\n",
       "        vertical-align: top;\n",
       "    }\n",
       "\n",
       "    .dataframe thead th {\n",
       "        text-align: right;\n",
       "    }\n",
       "</style>\n",
       "<table border=\"1\" class=\"dataframe\">\n",
       "  <thead>\n",
       "    <tr style=\"text-align: right;\">\n",
       "      <th></th>\n",
       "      <th>0</th>\n",
       "      <th>1</th>\n",
       "      <th>2</th>\n",
       "      <th>3</th>\n",
       "      <th>4</th>\n",
       "      <th>5</th>\n",
       "      <th>6</th>\n",
       "      <th>7</th>\n",
       "      <th>8</th>\n",
       "      <th>9</th>\n",
       "      <th>10</th>\n",
       "      <th>11</th>\n",
       "      <th>12</th>\n",
       "      <th>13</th>\n",
       "      <th>14</th>\n",
       "      <th>15</th>\n",
       "      <th>16</th>\n",
       "      <th>17</th>\n",
       "      <th>18</th>\n",
       "      <th>19</th>\n",
       "    </tr>\n",
       "  </thead>\n",
       "  <tbody>\n",
       "    <tr>\n",
       "      <th>0</th>\n",
       "      <td>1.0</td>\n",
       "      <td>0.0</td>\n",
       "      <td>3.0</td>\n",
       "      <td>0.0</td>\n",
       "      <td>0.0</td>\n",
       "      <td>1.0</td>\n",
       "      <td>0.0</td>\n",
       "      <td>0.0</td>\n",
       "      <td>0.0</td>\n",
       "      <td>0.0</td>\n",
       "      <td>0.0</td>\n",
       "      <td>1.0</td>\n",
       "      <td>0.0</td>\n",
       "      <td>0.0</td>\n",
       "      <td>56.0</td>\n",
       "      <td>135.0</td>\n",
       "      <td>71.0</td>\n",
       "      <td>48.0</td>\n",
       "      <td>249.0</td>\n",
       "      <td>297.0</td>\n",
       "    </tr>\n",
       "    <tr>\n",
       "      <th>1</th>\n",
       "      <td>1.0</td>\n",
       "      <td>0.0</td>\n",
       "      <td>3.0</td>\n",
       "      <td>0.0</td>\n",
       "      <td>0.0</td>\n",
       "      <td>1.0</td>\n",
       "      <td>0.0</td>\n",
       "      <td>1.0</td>\n",
       "      <td>0.0</td>\n",
       "      <td>0.0</td>\n",
       "      <td>0.0</td>\n",
       "      <td>0.0</td>\n",
       "      <td>0.0</td>\n",
       "      <td>0.0</td>\n",
       "      <td>60.2</td>\n",
       "      <td>96.0</td>\n",
       "      <td>52.0</td>\n",
       "      <td>31.0</td>\n",
       "      <td>135.0</td>\n",
       "      <td>166.0</td>\n",
       "    </tr>\n",
       "    <tr>\n",
       "      <th>2</th>\n",
       "      <td>1.0</td>\n",
       "      <td>1.0</td>\n",
       "      <td>1.0</td>\n",
       "      <td>0.0</td>\n",
       "      <td>1.0</td>\n",
       "      <td>0.0</td>\n",
       "      <td>1.0</td>\n",
       "      <td>1.0</td>\n",
       "      <td>0.0</td>\n",
       "      <td>0.0</td>\n",
       "      <td>1.0</td>\n",
       "      <td>0.0</td>\n",
       "      <td>0.0</td>\n",
       "      <td>0.0</td>\n",
       "      <td>83.9</td>\n",
       "      <td>115.0</td>\n",
       "      <td>57.0</td>\n",
       "      <td>44.0</td>\n",
       "      <td>211.0</td>\n",
       "      <td>255.0</td>\n",
       "    </tr>\n",
       "    <tr>\n",
       "      <th>3</th>\n",
       "      <td>1.0</td>\n",
       "      <td>0.0</td>\n",
       "      <td>2.0</td>\n",
       "      <td>1.0</td>\n",
       "      <td>0.0</td>\n",
       "      <td>0.0</td>\n",
       "      <td>0.0</td>\n",
       "      <td>2.0</td>\n",
       "      <td>0.0</td>\n",
       "      <td>0.0</td>\n",
       "      <td>0.0</td>\n",
       "      <td>0.0</td>\n",
       "      <td>0.0</td>\n",
       "      <td>0.0</td>\n",
       "      <td>69.4</td>\n",
       "      <td>110.0</td>\n",
       "      <td>57.0</td>\n",
       "      <td>74.0</td>\n",
       "      <td>156.0</td>\n",
       "      <td>230.0</td>\n",
       "    </tr>\n",
       "    <tr>\n",
       "      <th>4</th>\n",
       "      <td>0.0</td>\n",
       "      <td>0.0</td>\n",
       "      <td>1.0</td>\n",
       "      <td>0.0</td>\n",
       "      <td>0.0</td>\n",
       "      <td>0.0</td>\n",
       "      <td>0.0</td>\n",
       "      <td>3.0</td>\n",
       "      <td>1.0</td>\n",
       "      <td>0.0</td>\n",
       "      <td>0.0</td>\n",
       "      <td>0.0</td>\n",
       "      <td>0.0</td>\n",
       "      <td>0.0</td>\n",
       "      <td>73.1</td>\n",
       "      <td>132.0</td>\n",
       "      <td>73.0</td>\n",
       "      <td>67.0</td>\n",
       "      <td>154.0</td>\n",
       "      <td>221.0</td>\n",
       "    </tr>\n",
       "    <tr>\n",
       "      <th>...</th>\n",
       "      <td>...</td>\n",
       "      <td>...</td>\n",
       "      <td>...</td>\n",
       "      <td>...</td>\n",
       "      <td>...</td>\n",
       "      <td>...</td>\n",
       "      <td>...</td>\n",
       "      <td>...</td>\n",
       "      <td>...</td>\n",
       "      <td>...</td>\n",
       "      <td>...</td>\n",
       "      <td>...</td>\n",
       "      <td>...</td>\n",
       "      <td>...</td>\n",
       "      <td>...</td>\n",
       "      <td>...</td>\n",
       "      <td>...</td>\n",
       "      <td>...</td>\n",
       "      <td>...</td>\n",
       "      <td>...</td>\n",
       "    </tr>\n",
       "    <tr>\n",
       "      <th>5995</th>\n",
       "      <td>1.0</td>\n",
       "      <td>1.0</td>\n",
       "      <td>2.0</td>\n",
       "      <td>0.0</td>\n",
       "      <td>0.0</td>\n",
       "      <td>0.0</td>\n",
       "      <td>0.0</td>\n",
       "      <td>2.0</td>\n",
       "      <td>1.0</td>\n",
       "      <td>0.0</td>\n",
       "      <td>0.0</td>\n",
       "      <td>0.0</td>\n",
       "      <td>0.0</td>\n",
       "      <td>0.0</td>\n",
       "      <td>109.3</td>\n",
       "      <td>149.0</td>\n",
       "      <td>77.0</td>\n",
       "      <td>33.0</td>\n",
       "      <td>189.0</td>\n",
       "      <td>222.0</td>\n",
       "    </tr>\n",
       "    <tr>\n",
       "      <th>5996</th>\n",
       "      <td>1.0</td>\n",
       "      <td>1.0</td>\n",
       "      <td>2.0</td>\n",
       "      <td>0.0</td>\n",
       "      <td>0.0</td>\n",
       "      <td>1.0</td>\n",
       "      <td>0.0</td>\n",
       "      <td>2.0</td>\n",
       "      <td>1.0</td>\n",
       "      <td>0.0</td>\n",
       "      <td>0.0</td>\n",
       "      <td>0.0</td>\n",
       "      <td>0.0</td>\n",
       "      <td>0.0</td>\n",
       "      <td>86.6</td>\n",
       "      <td>130.0</td>\n",
       "      <td>75.0</td>\n",
       "      <td>38.0</td>\n",
       "      <td>123.0</td>\n",
       "      <td>161.0</td>\n",
       "    </tr>\n",
       "    <tr>\n",
       "      <th>5997</th>\n",
       "      <td>0.0</td>\n",
       "      <td>0.0</td>\n",
       "      <td>1.0</td>\n",
       "      <td>1.0</td>\n",
       "      <td>1.0</td>\n",
       "      <td>0.0</td>\n",
       "      <td>1.0</td>\n",
       "      <td>3.0</td>\n",
       "      <td>0.0</td>\n",
       "      <td>0.0</td>\n",
       "      <td>0.0</td>\n",
       "      <td>0.0</td>\n",
       "      <td>0.0</td>\n",
       "      <td>0.0</td>\n",
       "      <td>78.0</td>\n",
       "      <td>126.0</td>\n",
       "      <td>83.0</td>\n",
       "      <td>40.0</td>\n",
       "      <td>131.0</td>\n",
       "      <td>171.0</td>\n",
       "    </tr>\n",
       "    <tr>\n",
       "      <th>5998</th>\n",
       "      <td>0.0</td>\n",
       "      <td>0.0</td>\n",
       "      <td>1.0</td>\n",
       "      <td>0.0</td>\n",
       "      <td>1.0</td>\n",
       "      <td>0.0</td>\n",
       "      <td>1.0</td>\n",
       "      <td>2.0</td>\n",
       "      <td>1.0</td>\n",
       "      <td>0.0</td>\n",
       "      <td>1.0</td>\n",
       "      <td>0.0</td>\n",
       "      <td>0.0</td>\n",
       "      <td>0.0</td>\n",
       "      <td>78.8</td>\n",
       "      <td>129.0</td>\n",
       "      <td>50.0</td>\n",
       "      <td>58.0</td>\n",
       "      <td>134.0</td>\n",
       "      <td>192.0</td>\n",
       "    </tr>\n",
       "    <tr>\n",
       "      <th>5999</th>\n",
       "      <td>1.0</td>\n",
       "      <td>0.0</td>\n",
       "      <td>2.0</td>\n",
       "      <td>1.0</td>\n",
       "      <td>0.0</td>\n",
       "      <td>1.0</td>\n",
       "      <td>0.0</td>\n",
       "      <td>2.0</td>\n",
       "      <td>0.0</td>\n",
       "      <td>0.0</td>\n",
       "      <td>0.0</td>\n",
       "      <td>0.0</td>\n",
       "      <td>0.0</td>\n",
       "      <td>0.0</td>\n",
       "      <td>62.3</td>\n",
       "      <td>95.0</td>\n",
       "      <td>59.0</td>\n",
       "      <td>52.0</td>\n",
       "      <td>102.0</td>\n",
       "      <td>154.0</td>\n",
       "    </tr>\n",
       "  </tbody>\n",
       "</table>\n",
       "<p>6000 rows × 20 columns</p>\n",
       "</div>"
      ],
      "text/plain": [
       "        0    1    2    3    4    5    6    7    8    9   10   11   12   13  \\\n",
       "0     1.0  0.0  3.0  0.0  0.0  1.0  0.0  0.0  0.0  0.0  0.0  1.0  0.0  0.0   \n",
       "1     1.0  0.0  3.0  0.0  0.0  1.0  0.0  1.0  0.0  0.0  0.0  0.0  0.0  0.0   \n",
       "2     1.0  1.0  1.0  0.0  1.0  0.0  1.0  1.0  0.0  0.0  1.0  0.0  0.0  0.0   \n",
       "3     1.0  0.0  2.0  1.0  0.0  0.0  0.0  2.0  0.0  0.0  0.0  0.0  0.0  0.0   \n",
       "4     0.0  0.0  1.0  0.0  0.0  0.0  0.0  3.0  1.0  0.0  0.0  0.0  0.0  0.0   \n",
       "...   ...  ...  ...  ...  ...  ...  ...  ...  ...  ...  ...  ...  ...  ...   \n",
       "5995  1.0  1.0  2.0  0.0  0.0  0.0  0.0  2.0  1.0  0.0  0.0  0.0  0.0  0.0   \n",
       "5996  1.0  1.0  2.0  0.0  0.0  1.0  0.0  2.0  1.0  0.0  0.0  0.0  0.0  0.0   \n",
       "5997  0.0  0.0  1.0  1.0  1.0  0.0  1.0  3.0  0.0  0.0  0.0  0.0  0.0  0.0   \n",
       "5998  0.0  0.0  1.0  0.0  1.0  0.0  1.0  2.0  1.0  0.0  1.0  0.0  0.0  0.0   \n",
       "5999  1.0  0.0  2.0  1.0  0.0  1.0  0.0  2.0  0.0  0.0  0.0  0.0  0.0  0.0   \n",
       "\n",
       "         14     15    16    17     18     19  \n",
       "0      56.0  135.0  71.0  48.0  249.0  297.0  \n",
       "1      60.2   96.0  52.0  31.0  135.0  166.0  \n",
       "2      83.9  115.0  57.0  44.0  211.0  255.0  \n",
       "3      69.4  110.0  57.0  74.0  156.0  230.0  \n",
       "4      73.1  132.0  73.0  67.0  154.0  221.0  \n",
       "...     ...    ...   ...   ...    ...    ...  \n",
       "5995  109.3  149.0  77.0  33.0  189.0  222.0  \n",
       "5996   86.6  130.0  75.0  38.0  123.0  161.0  \n",
       "5997   78.0  126.0  83.0  40.0  131.0  171.0  \n",
       "5998   78.8  129.0  50.0  58.0  134.0  192.0  \n",
       "5999   62.3   95.0  59.0  52.0  102.0  154.0  \n",
       "\n",
       "[6000 rows x 20 columns]"
      ]
     },
     "execution_count": 160,
     "metadata": {},
     "output_type": "execute_result"
    }
   ],
   "source": [
    "pd.DataFrame(filled_data)"
   ]
  },
  {
   "cell_type": "code",
   "execution_count": 161,
   "metadata": {},
   "outputs": [],
   "source": [
    "filled_features = ['Region', 'Obesity', 'Physical Activity', 'Education', 'Unmarried',\n",
    "                 'Income', 'Unmarried', 'Source of Care', 'HyperTension', 'PoorVision',\n",
    "                   'Diabetes', 'Hepatitis', 'Family Hepatitis', 'Chronic Fatigue', \n",
    "                   'Weight', 'Maximum Blood Pressure', 'Minimum Blood Pressure',\n",
    "                   'Good Cholesterol','Bad Cholesterol', 'Total Cholesterol' ]\n"
   ]
  },
  {
   "cell_type": "code",
   "execution_count": 162,
   "metadata": {},
   "outputs": [],
   "source": [
    "filled_data = pd.DataFrame(filled_data, columns = filled_features)"
   ]
  },
  {
   "cell_type": "code",
   "execution_count": 163,
   "metadata": {},
   "outputs": [
    {
     "data": {
      "text/html": [
       "<div>\n",
       "<style scoped>\n",
       "    .dataframe tbody tr th:only-of-type {\n",
       "        vertical-align: middle;\n",
       "    }\n",
       "\n",
       "    .dataframe tbody tr th {\n",
       "        vertical-align: top;\n",
       "    }\n",
       "\n",
       "    .dataframe thead th {\n",
       "        text-align: right;\n",
       "    }\n",
       "</style>\n",
       "<table border=\"1\" class=\"dataframe\">\n",
       "  <thead>\n",
       "    <tr style=\"text-align: right;\">\n",
       "      <th></th>\n",
       "      <th>Region</th>\n",
       "      <th>Obesity</th>\n",
       "      <th>Physical Activity</th>\n",
       "      <th>Education</th>\n",
       "      <th>Unmarried</th>\n",
       "      <th>Income</th>\n",
       "      <th>Unmarried</th>\n",
       "      <th>Source of Care</th>\n",
       "      <th>HyperTension</th>\n",
       "      <th>PoorVision</th>\n",
       "      <th>Diabetes</th>\n",
       "      <th>Hepatitis</th>\n",
       "      <th>Family Hepatitis</th>\n",
       "      <th>Chronic Fatigue</th>\n",
       "      <th>Weight</th>\n",
       "      <th>Maximum Blood Pressure</th>\n",
       "      <th>Minimum Blood Pressure</th>\n",
       "      <th>Good Cholesterol</th>\n",
       "      <th>Bad Cholesterol</th>\n",
       "      <th>Total Cholesterol</th>\n",
       "    </tr>\n",
       "  </thead>\n",
       "  <tbody>\n",
       "    <tr>\n",
       "      <th>0</th>\n",
       "      <td>1.0</td>\n",
       "      <td>0.0</td>\n",
       "      <td>3.0</td>\n",
       "      <td>0.0</td>\n",
       "      <td>0.0</td>\n",
       "      <td>1.0</td>\n",
       "      <td>0.0</td>\n",
       "      <td>0.0</td>\n",
       "      <td>0.0</td>\n",
       "      <td>0.0</td>\n",
       "      <td>0.0</td>\n",
       "      <td>1.0</td>\n",
       "      <td>0.0</td>\n",
       "      <td>0.0</td>\n",
       "      <td>56.0</td>\n",
       "      <td>135.0</td>\n",
       "      <td>71.0</td>\n",
       "      <td>48.0</td>\n",
       "      <td>249.0</td>\n",
       "      <td>297.0</td>\n",
       "    </tr>\n",
       "    <tr>\n",
       "      <th>1</th>\n",
       "      <td>1.0</td>\n",
       "      <td>0.0</td>\n",
       "      <td>3.0</td>\n",
       "      <td>0.0</td>\n",
       "      <td>0.0</td>\n",
       "      <td>1.0</td>\n",
       "      <td>0.0</td>\n",
       "      <td>1.0</td>\n",
       "      <td>0.0</td>\n",
       "      <td>0.0</td>\n",
       "      <td>0.0</td>\n",
       "      <td>0.0</td>\n",
       "      <td>0.0</td>\n",
       "      <td>0.0</td>\n",
       "      <td>60.2</td>\n",
       "      <td>96.0</td>\n",
       "      <td>52.0</td>\n",
       "      <td>31.0</td>\n",
       "      <td>135.0</td>\n",
       "      <td>166.0</td>\n",
       "    </tr>\n",
       "    <tr>\n",
       "      <th>2</th>\n",
       "      <td>1.0</td>\n",
       "      <td>1.0</td>\n",
       "      <td>1.0</td>\n",
       "      <td>0.0</td>\n",
       "      <td>1.0</td>\n",
       "      <td>0.0</td>\n",
       "      <td>1.0</td>\n",
       "      <td>1.0</td>\n",
       "      <td>0.0</td>\n",
       "      <td>0.0</td>\n",
       "      <td>1.0</td>\n",
       "      <td>0.0</td>\n",
       "      <td>0.0</td>\n",
       "      <td>0.0</td>\n",
       "      <td>83.9</td>\n",
       "      <td>115.0</td>\n",
       "      <td>57.0</td>\n",
       "      <td>44.0</td>\n",
       "      <td>211.0</td>\n",
       "      <td>255.0</td>\n",
       "    </tr>\n",
       "    <tr>\n",
       "      <th>3</th>\n",
       "      <td>1.0</td>\n",
       "      <td>0.0</td>\n",
       "      <td>2.0</td>\n",
       "      <td>1.0</td>\n",
       "      <td>0.0</td>\n",
       "      <td>0.0</td>\n",
       "      <td>0.0</td>\n",
       "      <td>2.0</td>\n",
       "      <td>0.0</td>\n",
       "      <td>0.0</td>\n",
       "      <td>0.0</td>\n",
       "      <td>0.0</td>\n",
       "      <td>0.0</td>\n",
       "      <td>0.0</td>\n",
       "      <td>69.4</td>\n",
       "      <td>110.0</td>\n",
       "      <td>57.0</td>\n",
       "      <td>74.0</td>\n",
       "      <td>156.0</td>\n",
       "      <td>230.0</td>\n",
       "    </tr>\n",
       "    <tr>\n",
       "      <th>4</th>\n",
       "      <td>0.0</td>\n",
       "      <td>0.0</td>\n",
       "      <td>1.0</td>\n",
       "      <td>0.0</td>\n",
       "      <td>0.0</td>\n",
       "      <td>0.0</td>\n",
       "      <td>0.0</td>\n",
       "      <td>3.0</td>\n",
       "      <td>1.0</td>\n",
       "      <td>0.0</td>\n",
       "      <td>0.0</td>\n",
       "      <td>0.0</td>\n",
       "      <td>0.0</td>\n",
       "      <td>0.0</td>\n",
       "      <td>73.1</td>\n",
       "      <td>132.0</td>\n",
       "      <td>73.0</td>\n",
       "      <td>67.0</td>\n",
       "      <td>154.0</td>\n",
       "      <td>221.0</td>\n",
       "    </tr>\n",
       "    <tr>\n",
       "      <th>...</th>\n",
       "      <td>...</td>\n",
       "      <td>...</td>\n",
       "      <td>...</td>\n",
       "      <td>...</td>\n",
       "      <td>...</td>\n",
       "      <td>...</td>\n",
       "      <td>...</td>\n",
       "      <td>...</td>\n",
       "      <td>...</td>\n",
       "      <td>...</td>\n",
       "      <td>...</td>\n",
       "      <td>...</td>\n",
       "      <td>...</td>\n",
       "      <td>...</td>\n",
       "      <td>...</td>\n",
       "      <td>...</td>\n",
       "      <td>...</td>\n",
       "      <td>...</td>\n",
       "      <td>...</td>\n",
       "      <td>...</td>\n",
       "    </tr>\n",
       "    <tr>\n",
       "      <th>5995</th>\n",
       "      <td>1.0</td>\n",
       "      <td>1.0</td>\n",
       "      <td>2.0</td>\n",
       "      <td>0.0</td>\n",
       "      <td>0.0</td>\n",
       "      <td>0.0</td>\n",
       "      <td>0.0</td>\n",
       "      <td>2.0</td>\n",
       "      <td>1.0</td>\n",
       "      <td>0.0</td>\n",
       "      <td>0.0</td>\n",
       "      <td>0.0</td>\n",
       "      <td>0.0</td>\n",
       "      <td>0.0</td>\n",
       "      <td>109.3</td>\n",
       "      <td>149.0</td>\n",
       "      <td>77.0</td>\n",
       "      <td>33.0</td>\n",
       "      <td>189.0</td>\n",
       "      <td>222.0</td>\n",
       "    </tr>\n",
       "    <tr>\n",
       "      <th>5996</th>\n",
       "      <td>1.0</td>\n",
       "      <td>1.0</td>\n",
       "      <td>2.0</td>\n",
       "      <td>0.0</td>\n",
       "      <td>0.0</td>\n",
       "      <td>1.0</td>\n",
       "      <td>0.0</td>\n",
       "      <td>2.0</td>\n",
       "      <td>1.0</td>\n",
       "      <td>0.0</td>\n",
       "      <td>0.0</td>\n",
       "      <td>0.0</td>\n",
       "      <td>0.0</td>\n",
       "      <td>0.0</td>\n",
       "      <td>86.6</td>\n",
       "      <td>130.0</td>\n",
       "      <td>75.0</td>\n",
       "      <td>38.0</td>\n",
       "      <td>123.0</td>\n",
       "      <td>161.0</td>\n",
       "    </tr>\n",
       "    <tr>\n",
       "      <th>5997</th>\n",
       "      <td>0.0</td>\n",
       "      <td>0.0</td>\n",
       "      <td>1.0</td>\n",
       "      <td>1.0</td>\n",
       "      <td>1.0</td>\n",
       "      <td>0.0</td>\n",
       "      <td>1.0</td>\n",
       "      <td>3.0</td>\n",
       "      <td>0.0</td>\n",
       "      <td>0.0</td>\n",
       "      <td>0.0</td>\n",
       "      <td>0.0</td>\n",
       "      <td>0.0</td>\n",
       "      <td>0.0</td>\n",
       "      <td>78.0</td>\n",
       "      <td>126.0</td>\n",
       "      <td>83.0</td>\n",
       "      <td>40.0</td>\n",
       "      <td>131.0</td>\n",
       "      <td>171.0</td>\n",
       "    </tr>\n",
       "    <tr>\n",
       "      <th>5998</th>\n",
       "      <td>0.0</td>\n",
       "      <td>0.0</td>\n",
       "      <td>1.0</td>\n",
       "      <td>0.0</td>\n",
       "      <td>1.0</td>\n",
       "      <td>0.0</td>\n",
       "      <td>1.0</td>\n",
       "      <td>2.0</td>\n",
       "      <td>1.0</td>\n",
       "      <td>0.0</td>\n",
       "      <td>1.0</td>\n",
       "      <td>0.0</td>\n",
       "      <td>0.0</td>\n",
       "      <td>0.0</td>\n",
       "      <td>78.8</td>\n",
       "      <td>129.0</td>\n",
       "      <td>50.0</td>\n",
       "      <td>58.0</td>\n",
       "      <td>134.0</td>\n",
       "      <td>192.0</td>\n",
       "    </tr>\n",
       "    <tr>\n",
       "      <th>5999</th>\n",
       "      <td>1.0</td>\n",
       "      <td>0.0</td>\n",
       "      <td>2.0</td>\n",
       "      <td>1.0</td>\n",
       "      <td>0.0</td>\n",
       "      <td>1.0</td>\n",
       "      <td>0.0</td>\n",
       "      <td>2.0</td>\n",
       "      <td>0.0</td>\n",
       "      <td>0.0</td>\n",
       "      <td>0.0</td>\n",
       "      <td>0.0</td>\n",
       "      <td>0.0</td>\n",
       "      <td>0.0</td>\n",
       "      <td>62.3</td>\n",
       "      <td>95.0</td>\n",
       "      <td>59.0</td>\n",
       "      <td>52.0</td>\n",
       "      <td>102.0</td>\n",
       "      <td>154.0</td>\n",
       "    </tr>\n",
       "  </tbody>\n",
       "</table>\n",
       "<p>6000 rows × 20 columns</p>\n",
       "</div>"
      ],
      "text/plain": [
       "      Region  Obesity  Physical Activity  Education  Unmarried  Income  \\\n",
       "0        1.0      0.0                3.0        0.0        0.0     1.0   \n",
       "1        1.0      0.0                3.0        0.0        0.0     1.0   \n",
       "2        1.0      1.0                1.0        0.0        1.0     0.0   \n",
       "3        1.0      0.0                2.0        1.0        0.0     0.0   \n",
       "4        0.0      0.0                1.0        0.0        0.0     0.0   \n",
       "...      ...      ...                ...        ...        ...     ...   \n",
       "5995     1.0      1.0                2.0        0.0        0.0     0.0   \n",
       "5996     1.0      1.0                2.0        0.0        0.0     1.0   \n",
       "5997     0.0      0.0                1.0        1.0        1.0     0.0   \n",
       "5998     0.0      0.0                1.0        0.0        1.0     0.0   \n",
       "5999     1.0      0.0                2.0        1.0        0.0     1.0   \n",
       "\n",
       "      Unmarried  Source of Care  HyperTension  PoorVision  Diabetes  \\\n",
       "0           0.0             0.0           0.0         0.0       0.0   \n",
       "1           0.0             1.0           0.0         0.0       0.0   \n",
       "2           1.0             1.0           0.0         0.0       1.0   \n",
       "3           0.0             2.0           0.0         0.0       0.0   \n",
       "4           0.0             3.0           1.0         0.0       0.0   \n",
       "...         ...             ...           ...         ...       ...   \n",
       "5995        0.0             2.0           1.0         0.0       0.0   \n",
       "5996        0.0             2.0           1.0         0.0       0.0   \n",
       "5997        1.0             3.0           0.0         0.0       0.0   \n",
       "5998        1.0             2.0           1.0         0.0       1.0   \n",
       "5999        0.0             2.0           0.0         0.0       0.0   \n",
       "\n",
       "      Hepatitis  Family Hepatitis  Chronic Fatigue  Weight  \\\n",
       "0           1.0               0.0              0.0    56.0   \n",
       "1           0.0               0.0              0.0    60.2   \n",
       "2           0.0               0.0              0.0    83.9   \n",
       "3           0.0               0.0              0.0    69.4   \n",
       "4           0.0               0.0              0.0    73.1   \n",
       "...         ...               ...              ...     ...   \n",
       "5995        0.0               0.0              0.0   109.3   \n",
       "5996        0.0               0.0              0.0    86.6   \n",
       "5997        0.0               0.0              0.0    78.0   \n",
       "5998        0.0               0.0              0.0    78.8   \n",
       "5999        0.0               0.0              0.0    62.3   \n",
       "\n",
       "      Maximum Blood Pressure  Minimum Blood Pressure  Good Cholesterol  \\\n",
       "0                      135.0                    71.0              48.0   \n",
       "1                       96.0                    52.0              31.0   \n",
       "2                      115.0                    57.0              44.0   \n",
       "3                      110.0                    57.0              74.0   \n",
       "4                      132.0                    73.0              67.0   \n",
       "...                      ...                     ...               ...   \n",
       "5995                   149.0                    77.0              33.0   \n",
       "5996                   130.0                    75.0              38.0   \n",
       "5997                   126.0                    83.0              40.0   \n",
       "5998                   129.0                    50.0              58.0   \n",
       "5999                    95.0                    59.0              52.0   \n",
       "\n",
       "      Bad Cholesterol  Total Cholesterol  \n",
       "0               249.0              297.0  \n",
       "1               135.0              166.0  \n",
       "2               211.0              255.0  \n",
       "3               156.0              230.0  \n",
       "4               154.0              221.0  \n",
       "...               ...                ...  \n",
       "5995            189.0              222.0  \n",
       "5996            123.0              161.0  \n",
       "5997            131.0              171.0  \n",
       "5998            134.0              192.0  \n",
       "5999            102.0              154.0  \n",
       "\n",
       "[6000 rows x 20 columns]"
      ]
     },
     "execution_count": 163,
     "metadata": {},
     "output_type": "execute_result"
    }
   ],
   "source": [
    "filled_data"
   ]
  },
  {
   "cell_type": "code",
   "execution_count": 164,
   "metadata": {},
   "outputs": [
    {
     "data": {
      "text/plain": [
       "Region                    0\n",
       "Obesity                   0\n",
       "Physical Activity         0\n",
       "Education                 0\n",
       "Unmarried                 0\n",
       "Income                    0\n",
       "Unmarried                 0\n",
       "Source of Care            0\n",
       "HyperTension              0\n",
       "PoorVision                0\n",
       "Diabetes                  0\n",
       "Hepatitis                 0\n",
       "Family Hepatitis          0\n",
       "Chronic Fatigue           0\n",
       "Weight                    0\n",
       "Maximum Blood Pressure    0\n",
       "Minimum Blood Pressure    0\n",
       "Good Cholesterol          0\n",
       "Bad Cholesterol           0\n",
       "Total Cholesterol         0\n",
       "dtype: int64"
      ]
     },
     "execution_count": 164,
     "metadata": {},
     "output_type": "execute_result"
    }
   ],
   "source": [
    "filled_data.isnull().sum()"
   ]
  },
  {
   "cell_type": "code",
   "execution_count": 165,
   "metadata": {},
   "outputs": [],
   "source": [
    "# data[filled_features] = filled_data[filled_features]"
   ]
  },
  {
   "cell_type": "code",
   "execution_count": 166,
   "metadata": {},
   "outputs": [
    {
     "data": {
      "text/plain": [
       "Age                          0\n",
       "Gender                       0\n",
       "Region                    2974\n",
       "Weight                     133\n",
       "Height                     139\n",
       "Body Mass Index            206\n",
       "Obesity                    206\n",
       "Waist                      215\n",
       "Maximum Blood Pressure     206\n",
       "Minimum Blood Pressure     252\n",
       "Good Cholesterol             8\n",
       "Bad Cholesterol              8\n",
       "Total Cholesterol            6\n",
       "Dyslipidemia                 0\n",
       "PVD                          0\n",
       "Physical Activity            8\n",
       "Education                   15\n",
       "Unmarried                  301\n",
       "Income                     792\n",
       "Source of Care               2\n",
       "PoorVision                 376\n",
       "Alcohol Consumption          0\n",
       "HyperTension                53\n",
       "Family  HyperTension         0\n",
       "Diabetes                     1\n",
       "Family Diabetes              0\n",
       "Hepatitis                   13\n",
       "Family Hepatitis             3\n",
       "Chronic Fatigue             26\n",
       "ALF                          0\n",
       "dtype: int64"
      ]
     },
     "execution_count": 166,
     "metadata": {},
     "output_type": "execute_result"
    }
   ],
   "source": [
    "data.isnull().sum()"
   ]
  },
  {
   "cell_type": "code",
   "execution_count": 167,
   "metadata": {},
   "outputs": [
    {
     "name": "stderr",
     "output_type": "stream",
     "text": [
      "<ipython-input-167-48a623a66630>:1: SettingWithCopyWarning: \n",
      "A value is trying to be set on a copy of a slice from a DataFrame\n",
      "\n",
      "See the caveats in the documentation: https://pandas.pydata.org/pandas-docs/stable/user_guide/indexing.html#returning-a-view-versus-a-copy\n",
      "  data.dropna(inplace = True)\n"
     ]
    }
   ],
   "source": [
    "data.dropna(inplace = True)"
   ]
  },
  {
   "cell_type": "code",
   "execution_count": 168,
   "metadata": {},
   "outputs": [
    {
     "data": {
      "text/plain": [
       "Age                       0\n",
       "Gender                    0\n",
       "Region                    0\n",
       "Weight                    0\n",
       "Height                    0\n",
       "Body Mass Index           0\n",
       "Obesity                   0\n",
       "Waist                     0\n",
       "Maximum Blood Pressure    0\n",
       "Minimum Blood Pressure    0\n",
       "Good Cholesterol          0\n",
       "Bad Cholesterol           0\n",
       "Total Cholesterol         0\n",
       "Dyslipidemia              0\n",
       "PVD                       0\n",
       "Physical Activity         0\n",
       "Education                 0\n",
       "Unmarried                 0\n",
       "Income                    0\n",
       "Source of Care            0\n",
       "PoorVision                0\n",
       "Alcohol Consumption       0\n",
       "HyperTension              0\n",
       "Family  HyperTension      0\n",
       "Diabetes                  0\n",
       "Family Diabetes           0\n",
       "Hepatitis                 0\n",
       "Family Hepatitis          0\n",
       "Chronic Fatigue           0\n",
       "ALF                       0\n",
       "dtype: int64"
      ]
     },
     "execution_count": 168,
     "metadata": {},
     "output_type": "execute_result"
    }
   ],
   "source": [
    "data.isnull().sum()"
   ]
  },
  {
   "cell_type": "code",
   "execution_count": 169,
   "metadata": {},
   "outputs": [],
   "source": [
    "x = data.drop('ALF', axis=1)\n",
    "y = data['ALF']"
   ]
  },
  {
   "cell_type": "code",
   "execution_count": 170,
   "metadata": {},
   "outputs": [
    {
     "data": {
      "text/html": [
       "<div>\n",
       "<style scoped>\n",
       "    .dataframe tbody tr th:only-of-type {\n",
       "        vertical-align: middle;\n",
       "    }\n",
       "\n",
       "    .dataframe tbody tr th {\n",
       "        vertical-align: top;\n",
       "    }\n",
       "\n",
       "    .dataframe thead th {\n",
       "        text-align: right;\n",
       "    }\n",
       "</style>\n",
       "<table border=\"1\" class=\"dataframe\">\n",
       "  <thead>\n",
       "    <tr style=\"text-align: right;\">\n",
       "      <th></th>\n",
       "      <th>Age</th>\n",
       "      <th>Gender</th>\n",
       "      <th>Region</th>\n",
       "      <th>Weight</th>\n",
       "      <th>Height</th>\n",
       "      <th>Body Mass Index</th>\n",
       "      <th>Obesity</th>\n",
       "      <th>Waist</th>\n",
       "      <th>Maximum Blood Pressure</th>\n",
       "      <th>Minimum Blood Pressure</th>\n",
       "      <th>...</th>\n",
       "      <th>Source of Care</th>\n",
       "      <th>PoorVision</th>\n",
       "      <th>Alcohol Consumption</th>\n",
       "      <th>HyperTension</th>\n",
       "      <th>Family  HyperTension</th>\n",
       "      <th>Diabetes</th>\n",
       "      <th>Family Diabetes</th>\n",
       "      <th>Hepatitis</th>\n",
       "      <th>Family Hepatitis</th>\n",
       "      <th>Chronic Fatigue</th>\n",
       "    </tr>\n",
       "  </thead>\n",
       "  <tbody>\n",
       "    <tr>\n",
       "      <th>6</th>\n",
       "      <td>66</td>\n",
       "      <td>0</td>\n",
       "      <td>0.0</td>\n",
       "      <td>85.1</td>\n",
       "      <td>172.1</td>\n",
       "      <td>28.73</td>\n",
       "      <td>0.0</td>\n",
       "      <td>99.2</td>\n",
       "      <td>137.0</td>\n",
       "      <td>92.0</td>\n",
       "      <td>...</td>\n",
       "      <td>2.0</td>\n",
       "      <td>0.0</td>\n",
       "      <td>0</td>\n",
       "      <td>1.0</td>\n",
       "      <td>0</td>\n",
       "      <td>0.0</td>\n",
       "      <td>0</td>\n",
       "      <td>0.0</td>\n",
       "      <td>0.0</td>\n",
       "      <td>0.0</td>\n",
       "    </tr>\n",
       "    <tr>\n",
       "      <th>12</th>\n",
       "      <td>62</td>\n",
       "      <td>0</td>\n",
       "      <td>1.0</td>\n",
       "      <td>56.1</td>\n",
       "      <td>165.5</td>\n",
       "      <td>20.48</td>\n",
       "      <td>0.0</td>\n",
       "      <td>78.7</td>\n",
       "      <td>201.0</td>\n",
       "      <td>119.0</td>\n",
       "      <td>...</td>\n",
       "      <td>2.0</td>\n",
       "      <td>0.0</td>\n",
       "      <td>1</td>\n",
       "      <td>1.0</td>\n",
       "      <td>0</td>\n",
       "      <td>0.0</td>\n",
       "      <td>0</td>\n",
       "      <td>0.0</td>\n",
       "      <td>0.0</td>\n",
       "      <td>0.0</td>\n",
       "    </tr>\n",
       "    <tr>\n",
       "      <th>13</th>\n",
       "      <td>36</td>\n",
       "      <td>0</td>\n",
       "      <td>1.0</td>\n",
       "      <td>78.8</td>\n",
       "      <td>183.8</td>\n",
       "      <td>23.33</td>\n",
       "      <td>0.0</td>\n",
       "      <td>86.8</td>\n",
       "      <td>108.0</td>\n",
       "      <td>62.0</td>\n",
       "      <td>...</td>\n",
       "      <td>3.0</td>\n",
       "      <td>0.0</td>\n",
       "      <td>0</td>\n",
       "      <td>0.0</td>\n",
       "      <td>0</td>\n",
       "      <td>0.0</td>\n",
       "      <td>1</td>\n",
       "      <td>0.0</td>\n",
       "      <td>0.0</td>\n",
       "      <td>0.0</td>\n",
       "    </tr>\n",
       "    <tr>\n",
       "      <th>14</th>\n",
       "      <td>60</td>\n",
       "      <td>1</td>\n",
       "      <td>1.0</td>\n",
       "      <td>68.3</td>\n",
       "      <td>146.7</td>\n",
       "      <td>31.74</td>\n",
       "      <td>1.0</td>\n",
       "      <td>88.5</td>\n",
       "      <td>153.0</td>\n",
       "      <td>77.0</td>\n",
       "      <td>...</td>\n",
       "      <td>2.0</td>\n",
       "      <td>0.0</td>\n",
       "      <td>1</td>\n",
       "      <td>1.0</td>\n",
       "      <td>0</td>\n",
       "      <td>0.0</td>\n",
       "      <td>1</td>\n",
       "      <td>0.0</td>\n",
       "      <td>0.0</td>\n",
       "      <td>0.0</td>\n",
       "    </tr>\n",
       "    <tr>\n",
       "      <th>15</th>\n",
       "      <td>30</td>\n",
       "      <td>1</td>\n",
       "      <td>1.0</td>\n",
       "      <td>68.3</td>\n",
       "      <td>157.8</td>\n",
       "      <td>27.43</td>\n",
       "      <td>0.0</td>\n",
       "      <td>89.1</td>\n",
       "      <td>105.0</td>\n",
       "      <td>72.0</td>\n",
       "      <td>...</td>\n",
       "      <td>2.0</td>\n",
       "      <td>0.0</td>\n",
       "      <td>1</td>\n",
       "      <td>0.0</td>\n",
       "      <td>1</td>\n",
       "      <td>0.0</td>\n",
       "      <td>1</td>\n",
       "      <td>0.0</td>\n",
       "      <td>0.0</td>\n",
       "      <td>0.0</td>\n",
       "    </tr>\n",
       "  </tbody>\n",
       "</table>\n",
       "<p>5 rows × 29 columns</p>\n",
       "</div>"
      ],
      "text/plain": [
       "    Age  Gender  Region  Weight  Height  Body Mass Index  Obesity  Waist  \\\n",
       "6    66       0     0.0    85.1   172.1            28.73      0.0   99.2   \n",
       "12   62       0     1.0    56.1   165.5            20.48      0.0   78.7   \n",
       "13   36       0     1.0    78.8   183.8            23.33      0.0   86.8   \n",
       "14   60       1     1.0    68.3   146.7            31.74      1.0   88.5   \n",
       "15   30       1     1.0    68.3   157.8            27.43      0.0   89.1   \n",
       "\n",
       "    Maximum Blood Pressure  Minimum Blood Pressure  ...  Source of Care  \\\n",
       "6                    137.0                    92.0  ...             2.0   \n",
       "12                   201.0                   119.0  ...             2.0   \n",
       "13                   108.0                    62.0  ...             3.0   \n",
       "14                   153.0                    77.0  ...             2.0   \n",
       "15                   105.0                    72.0  ...             2.0   \n",
       "\n",
       "    PoorVision  Alcohol Consumption  HyperTension  Family  HyperTension  \\\n",
       "6          0.0                    0           1.0                     0   \n",
       "12         0.0                    1           1.0                     0   \n",
       "13         0.0                    0           0.0                     0   \n",
       "14         0.0                    1           1.0                     0   \n",
       "15         0.0                    1           0.0                     1   \n",
       "\n",
       "    Diabetes  Family Diabetes  Hepatitis  Family Hepatitis  Chronic Fatigue  \n",
       "6        0.0                0        0.0               0.0              0.0  \n",
       "12       0.0                0        0.0               0.0              0.0  \n",
       "13       0.0                1        0.0               0.0              0.0  \n",
       "14       0.0                1        0.0               0.0              0.0  \n",
       "15       0.0                1        0.0               0.0              0.0  \n",
       "\n",
       "[5 rows x 29 columns]"
      ]
     },
     "execution_count": 170,
     "metadata": {},
     "output_type": "execute_result"
    }
   ],
   "source": [
    "x.head()"
   ]
  },
  {
   "cell_type": "code",
   "execution_count": 171,
   "metadata": {},
   "outputs": [
    {
     "data": {
      "text/plain": [
       "6     0.0\n",
       "12    0.0\n",
       "13    0.0\n",
       "14    0.0\n",
       "15    0.0\n",
       "Name: ALF, dtype: float64"
      ]
     },
     "execution_count": 171,
     "metadata": {},
     "output_type": "execute_result"
    }
   ],
   "source": [
    "y.head()"
   ]
  },
  {
   "cell_type": "code",
   "execution_count": 172,
   "metadata": {},
   "outputs": [],
   "source": [
    "from sklearn.model_selection import train_test_split"
   ]
  },
  {
   "cell_type": "code",
   "execution_count": 173,
   "metadata": {},
   "outputs": [],
   "source": [
    "x_train, x_test, y_train, y_test = train_test_split(x,y)"
   ]
  },
  {
   "cell_type": "code",
   "execution_count": 174,
   "metadata": {},
   "outputs": [
    {
     "data": {
      "text/plain": [
       "((1503, 29), (1503,))"
      ]
     },
     "execution_count": 174,
     "metadata": {},
     "output_type": "execute_result"
    }
   ],
   "source": [
    "x_train.shape, y_train.shape"
   ]
  },
  {
   "cell_type": "markdown",
   "metadata": {},
   "source": [
    "##  test RandomForestClassifier"
   ]
  },
  {
   "cell_type": "code",
   "execution_count": 175,
   "metadata": {},
   "outputs": [],
   "source": [
    "from sklearn.ensemble import RandomForestClassifier"
   ]
  },
  {
   "cell_type": "code",
   "execution_count": 176,
   "metadata": {},
   "outputs": [
    {
     "data": {
      "text/plain": [
       "RandomForestClassifier()"
      ]
     },
     "execution_count": 176,
     "metadata": {},
     "output_type": "execute_result"
    }
   ],
   "source": [
    "model = RandomForestClassifier()\n",
    "model.fit(x_train, y_train)"
   ]
  },
  {
   "cell_type": "code",
   "execution_count": 177,
   "metadata": {},
   "outputs": [
    {
     "data": {
      "text/plain": [
       "{'bootstrap': True,\n",
       " 'ccp_alpha': 0.0,\n",
       " 'class_weight': None,\n",
       " 'criterion': 'gini',\n",
       " 'max_depth': None,\n",
       " 'max_features': 'auto',\n",
       " 'max_leaf_nodes': None,\n",
       " 'max_samples': None,\n",
       " 'min_impurity_decrease': 0.0,\n",
       " 'min_impurity_split': None,\n",
       " 'min_samples_leaf': 1,\n",
       " 'min_samples_split': 2,\n",
       " 'min_weight_fraction_leaf': 0.0,\n",
       " 'n_estimators': 100,\n",
       " 'n_jobs': None,\n",
       " 'oob_score': False,\n",
       " 'random_state': None,\n",
       " 'verbose': 0,\n",
       " 'warm_start': False}"
      ]
     },
     "execution_count": 177,
     "metadata": {},
     "output_type": "execute_result"
    }
   ],
   "source": [
    "model.get_params()"
   ]
  },
  {
   "cell_type": "code",
   "execution_count": 178,
   "metadata": {},
   "outputs": [
    {
     "data": {
      "text/plain": [
       "0.9601593625498008"
      ]
     },
     "execution_count": 178,
     "metadata": {},
     "output_type": "execute_result"
    }
   ],
   "source": [
    "model.score(x_test, y_test) #bad result"
   ]
  },
  {
   "cell_type": "markdown",
   "metadata": {},
   "source": [
    "## test RandomForestRegressor"
   ]
  },
  {
   "cell_type": "code",
   "execution_count": 179,
   "metadata": {},
   "outputs": [],
   "source": [
    "from sklearn.ensemble import RandomForestRegressor"
   ]
  },
  {
   "cell_type": "code",
   "execution_count": 180,
   "metadata": {},
   "outputs": [],
   "source": [
    "model = RandomForestRegressor()"
   ]
  },
  {
   "cell_type": "code",
   "execution_count": 181,
   "metadata": {},
   "outputs": [
    {
     "data": {
      "text/plain": [
       "RandomForestRegressor()"
      ]
     },
     "execution_count": 181,
     "metadata": {},
     "output_type": "execute_result"
    }
   ],
   "source": [
    "model.fit(x_train, y_train)"
   ]
  },
  {
   "cell_type": "code",
   "execution_count": 182,
   "metadata": {},
   "outputs": [
    {
     "data": {
      "text/plain": [
       "0.07667410788381723"
      ]
     },
     "execution_count": 182,
     "metadata": {},
     "output_type": "execute_result"
    }
   ],
   "source": [
    "model.score(x_test, y_test) #better than last Classifier"
   ]
  },
  {
   "cell_type": "markdown",
   "metadata": {},
   "source": [
    "## Test DecisionTreeClassifier"
   ]
  },
  {
   "cell_type": "code",
   "execution_count": 183,
   "metadata": {},
   "outputs": [],
   "source": [
    "from sklearn.tree import DecisionTreeClassifier\n",
    "model = DecisionTreeClassifier()"
   ]
  },
  {
   "cell_type": "code",
   "execution_count": 184,
   "metadata": {},
   "outputs": [
    {
     "data": {
      "text/plain": [
       "DecisionTreeClassifier()"
      ]
     },
     "execution_count": 184,
     "metadata": {},
     "output_type": "execute_result"
    }
   ],
   "source": [
    "model.fit(x_train, y_train)"
   ]
  },
  {
   "cell_type": "code",
   "execution_count": 185,
   "metadata": {},
   "outputs": [
    {
     "data": {
      "text/plain": [
       "0.9462151394422311"
      ]
     },
     "execution_count": 185,
     "metadata": {},
     "output_type": "execute_result"
    }
   ],
   "source": [
    "model.score(x_test, y_test) # same as firt Classifier"
   ]
  }
 ],
 "metadata": {
  "kernelspec": {
   "display_name": "Python 3",
   "language": "python",
   "name": "python3"
  },
  "language_info": {
   "codemirror_mode": {
    "name": "ipython",
    "version": 3
   },
   "file_extension": ".py",
   "mimetype": "text/x-python",
   "name": "python",
   "nbconvert_exporter": "python",
   "pygments_lexer": "ipython3",
   "version": "3.8.3"
  }
 },
 "nbformat": 4,
 "nbformat_minor": 4
}
